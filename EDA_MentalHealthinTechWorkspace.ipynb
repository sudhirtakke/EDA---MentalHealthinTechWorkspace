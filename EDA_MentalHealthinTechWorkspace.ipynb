{
  "nbformat": 4,
  "nbformat_minor": 0,
  "metadata": {
    "kernelspec": {
      "display_name": "Python 3",
      "language": "python",
      "name": "python3"
    },
    "language_info": {
      "codemirror_mode": {
        "name": "ipython",
        "version": 3
      },
      "file_extension": ".py",
      "mimetype": "text/x-python",
      "name": "python",
      "nbconvert_exporter": "python",
      "pygments_lexer": "ipython3",
      "version": "3.6.5"
    },
    "colab": {
      "name": "EDA - MentalHealthinTechWorkspace.ipynb",
      "provenance": [],
      "collapsed_sections": [
        "Z7RTyie3DgwT",
        "Q5WLxIXYDgwY",
        "GsxjvHpBDgwZ",
        "7Jj5PUJZDgwd",
        "zpNQXslrDgw2"
      ],
      "include_colab_link": true
    }
  },
  "cells": [
    {
      "cell_type": "markdown",
      "metadata": {
        "id": "view-in-github",
        "colab_type": "text"
      },
      "source": [
        "<a href=\"https://colab.research.google.com/github/sudhirtakke/EDA---MentalHealthinTechWorkspace/blob/main/EDA_MentalHealthinTechWorkspace.ipynb\" target=\"_parent\"><img src=\"https://colab.research.google.com/assets/colab-badge.svg\" alt=\"Open In Colab\"/></a>"
      ]
    },
    {
      "cell_type": "markdown",
      "metadata": {
        "id": "gowdKhMpDgwE"
      },
      "source": [
        "### Table of Contents\n",
        "- 1. [Problem Statement](#section1)</br>\n",
        "    - 1.1 [Introduction](#section101)<br/>\n",
        "    - 1.2 [Data source and data set](#section102)<br/>\n",
        "- 2. [Load the packages and data](#section2)</br>\n",
        "- 3. [Data profiling](#section3)</br>\n",
        "    - 3.1 [dtypes](#section301)<br/>\n",
        "    - 3.2 [head](#section302)<br/>\n",
        "    - 3.3 [describe](#section303)<br/>\n",
        "    - 3.4 [sample](#section304)<br/>\n",
        "    - 3.5 [Pandas profiling](#section305)<br/>\n",
        "    - 3.6 [Initial observations](#section306)<br/>\n",
        "    - 3.7 [Final observations](#section307)<br/>\n",
        "- 4. [Data normalization](#section4)</br>\n",
        "    - 4.1 [Standardize column headers to lower case](#section401)<br/>\n",
        "    - 4.2 [Convert timestamp to date-time](#section402)<br/>\n",
        "    - 4.3 [Missing data and its imputation](#section403)<br/>\n",
        "    - 4.4 [Outlier Treatment](#section404)<br/>\n",
        "    - 4.5 [Handling NaN data in categorical variables](#section405)<br/>            \n",
        "    - 4.6 [Grouping](#section406)<br/>\n",
        "- 5. [Identify patterns in the data](#section5)</br>\n",
        "    - 5.1 [Treatment vs work_interfere](#section501)<br/>\n",
        "    - 5.2 [Age Category Vs seeking treatment](#section502)<br/>\n",
        "    - 5.3 [Family history Vs Seeking treatment](#section503)<br/>\n",
        "    - 5.4 [Employee count of Companies](#section505)<br/>\n",
        "    - 5.5 [Employee Count Vs treatment](#section506)<br/>\n",
        "    - 5.6 [Using Donut chart to check the relationship between Gender and Treatment](#section507)<br/>\n",
        "    - 5.7 [Seaborn swarm plot](#section508)<br/>\n",
        "- 6. [Analysis through questions](#section6)</br>\n",
        "     - 6.1 [How does the frequency of mental health illness vary by geographic location?](#section601)<br/>\n",
        "         - 6.1.1 [Which countries contribute the most?](#section602)<br/>\n",
        "         - 6.1.2 [Which state contributes the most?](#section603)<br/>\n",
        "         - 6.1.3 [What is the contribution of top 3 countries among all?](#section604)<br/>\n",
        "         - 6.1.4 [What is the count and percentage of work interfere in work of the employees for the top 3 countries?](#section605)<br/>\n",
        "         - 6.1.5 [What is the total number of employees going for treatment from the top 3 countries?](#section606)<br/>\n",
        "         - 6.1.6 [ How many people did go for treatment on the basis of gender for the top 3 countries?](#section607)<br/>\n",
        "     - 6.2 [Relationship between mental health and attitude.](#section608)<br/>\n",
        "- 7. [Conclusion](#section7)<br/>"
      ]
    },
    {
      "cell_type": "markdown",
      "metadata": {
        "id": "tJYbmX5vDgwF"
      },
      "source": [
        "<a id=section1></a> \n",
        "## 1. Problem Statement \n",
        "\n",
        "\"This dataset is from a 2014 survey that measures attitudes towards __mental health and frequency of mental health disorders in the tech workplace__.\"\n",
        "<a id=section101></a> \n",
        "### 1.1. Introduction\n",
        "The notebook has observations with each step in order to explain thoroughly how to approach the data set. Based on the observation some questions also are answered in the notebook for the reference though not all of them are explored in the analysis. \n",
        "\n",
        "<a id=section102></a> \n",
        "### 1.2. Data source and dataset\n",
        "\n",
        "__a__. How was it collected? \n",
        "\n",
        "- __Name__: \"Annual Mental Health in Tech Survey\"\n",
        "- __Sponsoring Organization__: Open Sourcing Mental Illness (OSMI)\n",
        "- __Year__: 2014\n",
        "- __Description__: \"With over 1200 responses, we believe the 2014 __Mental Health in Tech Survey__ was the largest survey done on mental health in the tech industry.\" Since then, OSMI has conducted two more surveys, 2016 and 2017. \n",
        "\n",
        "__b__. Is it a sample? If yes, was it properly sampled?\n",
        "- Yes, it is a sample. We don't have official information about the data collection method, but it appears *not* to be a random sample, so we can assume that it is not representative. "
      ]
    },
    {
      "cell_type": "markdown",
      "metadata": {
        "id": "gKD_DvtcDgwG"
      },
      "source": [
        "<a id=section2></a> \n",
        "### 2. Load the packages and data "
      ]
    },
    {
      "cell_type": "markdown",
      "metadata": {
        "id": "u3X_2tLkDgwG"
      },
      "source": [
        "#### Run this line in case you dont have pandas_profiling installed.\n",
        "```python\n",
        "!pip install pandas_profiling\n",
        "```                                                  "
      ]
    },
    {
      "cell_type": "code",
      "metadata": {
        "_cell_guid": "87c98308-2f60-47b0-8007-777feadea29e",
        "_kg_hide-input": false,
        "_kg_hide-output": false,
        "_uuid": "7358d222da406e9bb090d83c4ef0b1f01bcab83d",
        "id": "attIClvjDgwH"
      },
      "source": [
        "import sys                                                                      # Import packages\n",
        "import pandas as pd\n",
        "import seaborn as sns\n",
        "import numpy as np\n",
        "import matplotlib.pyplot as plt\n",
        "from matplotlib.pyplot import pie, axis, show\n",
        "%matplotlib inline                                                              \n",
        "\n",
        "import warnings                                                                 # Ignore warning related to pandas_profiling\n",
        "warnings.filterwarnings('ignore') \n",
        "\n",
        "pd.set_option('display.max_columns', 100)                                       # Display all dataframe columns in outputs (it has 27 columns, which is wider than the notebook)\n",
        "                                                                                # This sets it up to dispaly with a horizontal scroll instead of hiding the middle columns\n",
        "\n",
        "mh = pd.read_csv(\"https://raw.githubusercontent.com/insaid2018/Term-1/master/Data/Casestudy/survey.csv\")                       # Load in the dataset as mh"
      ],
      "execution_count": null,
      "outputs": []
    },
    {
      "cell_type": "markdown",
      "metadata": {
        "_cell_guid": "bcf14f2c-a2d0-46c7-ac21-0616cac0624d",
        "_uuid": "1364017f0b2e4c92840482382b4d7fbdfb5d51f1",
        "id": "ISi_NLcqDgwI"
      },
      "source": [
        "<a id=section3></a> \n",
        "### 3. Data Profiling\n",
        "\n",
        "Review the data types and sample data to understand what variables we are dealing with?<br>\n",
        "Which variables need to be transformed in some way before they can be analyzed?"
      ]
    },
    {
      "cell_type": "code",
      "metadata": {
        "_cell_guid": "2cbcb1ea-b2af-45c9-8fce-4b00c213dab1",
        "_uuid": "9b429eb8b0d07d1bbd0bb8a1d135a430bed53491",
        "scrolled": true,
        "colab": {
          "base_uri": "https://localhost:8080/"
        },
        "id": "j3J80R8NDgwJ",
        "outputId": "37d7af50-c39f-4da3-f3b7-e22e6f6b30f5"
      },
      "source": [
        "mh.dtypes                                                                       # Display the data type for each variable"
      ],
      "execution_count": null,
      "outputs": [
        {
          "output_type": "execute_result",
          "data": {
            "text/plain": [
              "Timestamp                    object\n",
              "Age                           int64\n",
              "Gender                       object\n",
              "Country                      object\n",
              "state                        object\n",
              "self_employed                object\n",
              "family_history               object\n",
              "treatment                    object\n",
              "work_interfere               object\n",
              "no_employees                 object\n",
              "remote_work                  object\n",
              "tech_company                 object\n",
              "benefits                     object\n",
              "care_options                 object\n",
              "wellness_program             object\n",
              "seek_help                    object\n",
              "anonymity                    object\n",
              "leave                        object\n",
              "mental_health_consequence    object\n",
              "phys_health_consequence      object\n",
              "coworkers                    object\n",
              "supervisor                   object\n",
              "mental_health_interview      object\n",
              "phys_health_interview        object\n",
              "mental_vs_physical           object\n",
              "obs_consequence              object\n",
              "comments                     object\n",
              "dtype: object"
            ]
          },
          "metadata": {
            "tags": []
          },
          "execution_count": 53
        }
      ]
    },
    {
      "cell_type": "markdown",
      "metadata": {
        "id": "zbGaCoksDgwL"
      },
      "source": [
        "<a id=section302></a> "
      ]
    },
    {
      "cell_type": "code",
      "metadata": {
        "_cell_guid": "15b014b4-7bce-4c7a-9a1a-2d917e94d27f",
        "_uuid": "4a9d3b2900adbd63975153afd6169e9451487530",
        "colab": {
          "base_uri": "https://localhost:8080/",
          "height": 394
        },
        "id": "YFceOVLlDgwL",
        "outputId": "a943e488-fd0c-4c8f-a90f-97428636cd3c"
      },
      "source": [
        "mh.head()                                                                      # Display the first five rows of the data set"
      ],
      "execution_count": null,
      "outputs": [
        {
          "output_type": "execute_result",
          "data": {
            "text/html": [
              "<div>\n",
              "<style scoped>\n",
              "    .dataframe tbody tr th:only-of-type {\n",
              "        vertical-align: middle;\n",
              "    }\n",
              "\n",
              "    .dataframe tbody tr th {\n",
              "        vertical-align: top;\n",
              "    }\n",
              "\n",
              "    .dataframe thead th {\n",
              "        text-align: right;\n",
              "    }\n",
              "</style>\n",
              "<table border=\"1\" class=\"dataframe\">\n",
              "  <thead>\n",
              "    <tr style=\"text-align: right;\">\n",
              "      <th></th>\n",
              "      <th>Timestamp</th>\n",
              "      <th>Age</th>\n",
              "      <th>Gender</th>\n",
              "      <th>Country</th>\n",
              "      <th>state</th>\n",
              "      <th>self_employed</th>\n",
              "      <th>family_history</th>\n",
              "      <th>treatment</th>\n",
              "      <th>work_interfere</th>\n",
              "      <th>no_employees</th>\n",
              "      <th>remote_work</th>\n",
              "      <th>tech_company</th>\n",
              "      <th>benefits</th>\n",
              "      <th>care_options</th>\n",
              "      <th>wellness_program</th>\n",
              "      <th>seek_help</th>\n",
              "      <th>anonymity</th>\n",
              "      <th>leave</th>\n",
              "      <th>mental_health_consequence</th>\n",
              "      <th>phys_health_consequence</th>\n",
              "      <th>coworkers</th>\n",
              "      <th>supervisor</th>\n",
              "      <th>mental_health_interview</th>\n",
              "      <th>phys_health_interview</th>\n",
              "      <th>mental_vs_physical</th>\n",
              "      <th>obs_consequence</th>\n",
              "      <th>comments</th>\n",
              "    </tr>\n",
              "  </thead>\n",
              "  <tbody>\n",
              "    <tr>\n",
              "      <th>0</th>\n",
              "      <td>2014-08-27 11:29:31</td>\n",
              "      <td>37</td>\n",
              "      <td>Female</td>\n",
              "      <td>United States</td>\n",
              "      <td>IL</td>\n",
              "      <td>NaN</td>\n",
              "      <td>No</td>\n",
              "      <td>Yes</td>\n",
              "      <td>Often</td>\n",
              "      <td>6-25</td>\n",
              "      <td>No</td>\n",
              "      <td>Yes</td>\n",
              "      <td>Yes</td>\n",
              "      <td>Not sure</td>\n",
              "      <td>No</td>\n",
              "      <td>Yes</td>\n",
              "      <td>Yes</td>\n",
              "      <td>Somewhat easy</td>\n",
              "      <td>No</td>\n",
              "      <td>No</td>\n",
              "      <td>Some of them</td>\n",
              "      <td>Yes</td>\n",
              "      <td>No</td>\n",
              "      <td>Maybe</td>\n",
              "      <td>Yes</td>\n",
              "      <td>No</td>\n",
              "      <td>NaN</td>\n",
              "    </tr>\n",
              "    <tr>\n",
              "      <th>1</th>\n",
              "      <td>2014-08-27 11:29:37</td>\n",
              "      <td>44</td>\n",
              "      <td>M</td>\n",
              "      <td>United States</td>\n",
              "      <td>IN</td>\n",
              "      <td>NaN</td>\n",
              "      <td>No</td>\n",
              "      <td>No</td>\n",
              "      <td>Rarely</td>\n",
              "      <td>More than 1000</td>\n",
              "      <td>No</td>\n",
              "      <td>No</td>\n",
              "      <td>Don't know</td>\n",
              "      <td>No</td>\n",
              "      <td>Don't know</td>\n",
              "      <td>Don't know</td>\n",
              "      <td>Don't know</td>\n",
              "      <td>Don't know</td>\n",
              "      <td>Maybe</td>\n",
              "      <td>No</td>\n",
              "      <td>No</td>\n",
              "      <td>No</td>\n",
              "      <td>No</td>\n",
              "      <td>No</td>\n",
              "      <td>Don't know</td>\n",
              "      <td>No</td>\n",
              "      <td>NaN</td>\n",
              "    </tr>\n",
              "    <tr>\n",
              "      <th>2</th>\n",
              "      <td>2014-08-27 11:29:44</td>\n",
              "      <td>32</td>\n",
              "      <td>Male</td>\n",
              "      <td>Canada</td>\n",
              "      <td>NaN</td>\n",
              "      <td>NaN</td>\n",
              "      <td>No</td>\n",
              "      <td>No</td>\n",
              "      <td>Rarely</td>\n",
              "      <td>6-25</td>\n",
              "      <td>No</td>\n",
              "      <td>Yes</td>\n",
              "      <td>No</td>\n",
              "      <td>No</td>\n",
              "      <td>No</td>\n",
              "      <td>No</td>\n",
              "      <td>Don't know</td>\n",
              "      <td>Somewhat difficult</td>\n",
              "      <td>No</td>\n",
              "      <td>No</td>\n",
              "      <td>Yes</td>\n",
              "      <td>Yes</td>\n",
              "      <td>Yes</td>\n",
              "      <td>Yes</td>\n",
              "      <td>No</td>\n",
              "      <td>No</td>\n",
              "      <td>NaN</td>\n",
              "    </tr>\n",
              "    <tr>\n",
              "      <th>3</th>\n",
              "      <td>2014-08-27 11:29:46</td>\n",
              "      <td>31</td>\n",
              "      <td>Male</td>\n",
              "      <td>United Kingdom</td>\n",
              "      <td>NaN</td>\n",
              "      <td>NaN</td>\n",
              "      <td>Yes</td>\n",
              "      <td>Yes</td>\n",
              "      <td>Often</td>\n",
              "      <td>26-100</td>\n",
              "      <td>No</td>\n",
              "      <td>Yes</td>\n",
              "      <td>No</td>\n",
              "      <td>Yes</td>\n",
              "      <td>No</td>\n",
              "      <td>No</td>\n",
              "      <td>No</td>\n",
              "      <td>Somewhat difficult</td>\n",
              "      <td>Yes</td>\n",
              "      <td>Yes</td>\n",
              "      <td>Some of them</td>\n",
              "      <td>No</td>\n",
              "      <td>Maybe</td>\n",
              "      <td>Maybe</td>\n",
              "      <td>No</td>\n",
              "      <td>Yes</td>\n",
              "      <td>NaN</td>\n",
              "    </tr>\n",
              "    <tr>\n",
              "      <th>4</th>\n",
              "      <td>2014-08-27 11:30:22</td>\n",
              "      <td>31</td>\n",
              "      <td>Male</td>\n",
              "      <td>United States</td>\n",
              "      <td>TX</td>\n",
              "      <td>NaN</td>\n",
              "      <td>No</td>\n",
              "      <td>No</td>\n",
              "      <td>Never</td>\n",
              "      <td>100-500</td>\n",
              "      <td>Yes</td>\n",
              "      <td>Yes</td>\n",
              "      <td>Yes</td>\n",
              "      <td>No</td>\n",
              "      <td>Don't know</td>\n",
              "      <td>Don't know</td>\n",
              "      <td>Don't know</td>\n",
              "      <td>Don't know</td>\n",
              "      <td>No</td>\n",
              "      <td>No</td>\n",
              "      <td>Some of them</td>\n",
              "      <td>Yes</td>\n",
              "      <td>Yes</td>\n",
              "      <td>Yes</td>\n",
              "      <td>Don't know</td>\n",
              "      <td>No</td>\n",
              "      <td>NaN</td>\n",
              "    </tr>\n",
              "  </tbody>\n",
              "</table>\n",
              "</div>"
            ],
            "text/plain": [
              "             Timestamp  Age  Gender         Country state self_employed  \\\n",
              "0  2014-08-27 11:29:31   37  Female   United States    IL           NaN   \n",
              "1  2014-08-27 11:29:37   44       M   United States    IN           NaN   \n",
              "2  2014-08-27 11:29:44   32    Male          Canada   NaN           NaN   \n",
              "3  2014-08-27 11:29:46   31    Male  United Kingdom   NaN           NaN   \n",
              "4  2014-08-27 11:30:22   31    Male   United States    TX           NaN   \n",
              "\n",
              "  family_history treatment work_interfere    no_employees remote_work  \\\n",
              "0             No       Yes          Often            6-25          No   \n",
              "1             No        No         Rarely  More than 1000          No   \n",
              "2             No        No         Rarely            6-25          No   \n",
              "3            Yes       Yes          Often          26-100          No   \n",
              "4             No        No          Never         100-500         Yes   \n",
              "\n",
              "  tech_company    benefits care_options wellness_program   seek_help  \\\n",
              "0          Yes         Yes     Not sure               No         Yes   \n",
              "1           No  Don't know           No       Don't know  Don't know   \n",
              "2          Yes          No           No               No          No   \n",
              "3          Yes          No          Yes               No          No   \n",
              "4          Yes         Yes           No       Don't know  Don't know   \n",
              "\n",
              "    anonymity               leave mental_health_consequence  \\\n",
              "0         Yes       Somewhat easy                        No   \n",
              "1  Don't know          Don't know                     Maybe   \n",
              "2  Don't know  Somewhat difficult                        No   \n",
              "3          No  Somewhat difficult                       Yes   \n",
              "4  Don't know          Don't know                        No   \n",
              "\n",
              "  phys_health_consequence     coworkers supervisor mental_health_interview  \\\n",
              "0                      No  Some of them        Yes                      No   \n",
              "1                      No            No         No                      No   \n",
              "2                      No           Yes        Yes                     Yes   \n",
              "3                     Yes  Some of them         No                   Maybe   \n",
              "4                      No  Some of them        Yes                     Yes   \n",
              "\n",
              "  phys_health_interview mental_vs_physical obs_consequence comments  \n",
              "0                 Maybe                Yes              No      NaN  \n",
              "1                    No         Don't know              No      NaN  \n",
              "2                   Yes                 No              No      NaN  \n",
              "3                 Maybe                 No             Yes      NaN  \n",
              "4                   Yes         Don't know              No      NaN  "
            ]
          },
          "metadata": {
            "tags": []
          },
          "execution_count": 54
        }
      ]
    },
    {
      "cell_type": "markdown",
      "metadata": {
        "id": "EbW4_zPnDgwM"
      },
      "source": [
        "<a id=section303><a/>"
      ]
    },
    {
      "cell_type": "code",
      "metadata": {
        "colab": {
          "base_uri": "https://localhost:8080/",
          "height": 461
        },
        "id": "fPChgvqnDgwM",
        "outputId": "91fce80b-c06f-42d0-f021-1949d1a7d9da"
      },
      "source": [
        "mh.describe(include = 'all')                                                    # Descriptive statistics for the numerical variables"
      ],
      "execution_count": null,
      "outputs": [
        {
          "output_type": "execute_result",
          "data": {
            "text/html": [
              "<div>\n",
              "<style scoped>\n",
              "    .dataframe tbody tr th:only-of-type {\n",
              "        vertical-align: middle;\n",
              "    }\n",
              "\n",
              "    .dataframe tbody tr th {\n",
              "        vertical-align: top;\n",
              "    }\n",
              "\n",
              "    .dataframe thead th {\n",
              "        text-align: right;\n",
              "    }\n",
              "</style>\n",
              "<table border=\"1\" class=\"dataframe\">\n",
              "  <thead>\n",
              "    <tr style=\"text-align: right;\">\n",
              "      <th></th>\n",
              "      <th>Timestamp</th>\n",
              "      <th>Age</th>\n",
              "      <th>Gender</th>\n",
              "      <th>Country</th>\n",
              "      <th>state</th>\n",
              "      <th>self_employed</th>\n",
              "      <th>family_history</th>\n",
              "      <th>treatment</th>\n",
              "      <th>work_interfere</th>\n",
              "      <th>no_employees</th>\n",
              "      <th>remote_work</th>\n",
              "      <th>tech_company</th>\n",
              "      <th>benefits</th>\n",
              "      <th>care_options</th>\n",
              "      <th>wellness_program</th>\n",
              "      <th>seek_help</th>\n",
              "      <th>anonymity</th>\n",
              "      <th>leave</th>\n",
              "      <th>mental_health_consequence</th>\n",
              "      <th>phys_health_consequence</th>\n",
              "      <th>coworkers</th>\n",
              "      <th>supervisor</th>\n",
              "      <th>mental_health_interview</th>\n",
              "      <th>phys_health_interview</th>\n",
              "      <th>mental_vs_physical</th>\n",
              "      <th>obs_consequence</th>\n",
              "      <th>comments</th>\n",
              "    </tr>\n",
              "  </thead>\n",
              "  <tbody>\n",
              "    <tr>\n",
              "      <th>count</th>\n",
              "      <td>1259</td>\n",
              "      <td>1.259000e+03</td>\n",
              "      <td>1259</td>\n",
              "      <td>1259</td>\n",
              "      <td>744</td>\n",
              "      <td>1241</td>\n",
              "      <td>1259</td>\n",
              "      <td>1259</td>\n",
              "      <td>995</td>\n",
              "      <td>1259</td>\n",
              "      <td>1259</td>\n",
              "      <td>1259</td>\n",
              "      <td>1259</td>\n",
              "      <td>1259</td>\n",
              "      <td>1259</td>\n",
              "      <td>1259</td>\n",
              "      <td>1259</td>\n",
              "      <td>1259</td>\n",
              "      <td>1259</td>\n",
              "      <td>1259</td>\n",
              "      <td>1259</td>\n",
              "      <td>1259</td>\n",
              "      <td>1259</td>\n",
              "      <td>1259</td>\n",
              "      <td>1259</td>\n",
              "      <td>1259</td>\n",
              "      <td>164</td>\n",
              "    </tr>\n",
              "    <tr>\n",
              "      <th>unique</th>\n",
              "      <td>1246</td>\n",
              "      <td>NaN</td>\n",
              "      <td>49</td>\n",
              "      <td>48</td>\n",
              "      <td>45</td>\n",
              "      <td>2</td>\n",
              "      <td>2</td>\n",
              "      <td>2</td>\n",
              "      <td>4</td>\n",
              "      <td>6</td>\n",
              "      <td>2</td>\n",
              "      <td>2</td>\n",
              "      <td>3</td>\n",
              "      <td>3</td>\n",
              "      <td>3</td>\n",
              "      <td>3</td>\n",
              "      <td>3</td>\n",
              "      <td>5</td>\n",
              "      <td>3</td>\n",
              "      <td>3</td>\n",
              "      <td>3</td>\n",
              "      <td>3</td>\n",
              "      <td>3</td>\n",
              "      <td>3</td>\n",
              "      <td>3</td>\n",
              "      <td>2</td>\n",
              "      <td>160</td>\n",
              "    </tr>\n",
              "    <tr>\n",
              "      <th>top</th>\n",
              "      <td>2014-08-27 12:37:50</td>\n",
              "      <td>NaN</td>\n",
              "      <td>Male</td>\n",
              "      <td>United States</td>\n",
              "      <td>CA</td>\n",
              "      <td>No</td>\n",
              "      <td>No</td>\n",
              "      <td>Yes</td>\n",
              "      <td>Sometimes</td>\n",
              "      <td>6-25</td>\n",
              "      <td>No</td>\n",
              "      <td>Yes</td>\n",
              "      <td>Yes</td>\n",
              "      <td>No</td>\n",
              "      <td>No</td>\n",
              "      <td>No</td>\n",
              "      <td>Don't know</td>\n",
              "      <td>Don't know</td>\n",
              "      <td>No</td>\n",
              "      <td>No</td>\n",
              "      <td>Some of them</td>\n",
              "      <td>Yes</td>\n",
              "      <td>No</td>\n",
              "      <td>Maybe</td>\n",
              "      <td>Don't know</td>\n",
              "      <td>No</td>\n",
              "      <td>* Small family business - YMMV.</td>\n",
              "    </tr>\n",
              "    <tr>\n",
              "      <th>freq</th>\n",
              "      <td>2</td>\n",
              "      <td>NaN</td>\n",
              "      <td>615</td>\n",
              "      <td>751</td>\n",
              "      <td>138</td>\n",
              "      <td>1095</td>\n",
              "      <td>767</td>\n",
              "      <td>637</td>\n",
              "      <td>465</td>\n",
              "      <td>290</td>\n",
              "      <td>883</td>\n",
              "      <td>1031</td>\n",
              "      <td>477</td>\n",
              "      <td>501</td>\n",
              "      <td>842</td>\n",
              "      <td>646</td>\n",
              "      <td>819</td>\n",
              "      <td>563</td>\n",
              "      <td>490</td>\n",
              "      <td>925</td>\n",
              "      <td>774</td>\n",
              "      <td>516</td>\n",
              "      <td>1008</td>\n",
              "      <td>557</td>\n",
              "      <td>576</td>\n",
              "      <td>1075</td>\n",
              "      <td>5</td>\n",
              "    </tr>\n",
              "    <tr>\n",
              "      <th>mean</th>\n",
              "      <td>NaN</td>\n",
              "      <td>7.942815e+07</td>\n",
              "      <td>NaN</td>\n",
              "      <td>NaN</td>\n",
              "      <td>NaN</td>\n",
              "      <td>NaN</td>\n",
              "      <td>NaN</td>\n",
              "      <td>NaN</td>\n",
              "      <td>NaN</td>\n",
              "      <td>NaN</td>\n",
              "      <td>NaN</td>\n",
              "      <td>NaN</td>\n",
              "      <td>NaN</td>\n",
              "      <td>NaN</td>\n",
              "      <td>NaN</td>\n",
              "      <td>NaN</td>\n",
              "      <td>NaN</td>\n",
              "      <td>NaN</td>\n",
              "      <td>NaN</td>\n",
              "      <td>NaN</td>\n",
              "      <td>NaN</td>\n",
              "      <td>NaN</td>\n",
              "      <td>NaN</td>\n",
              "      <td>NaN</td>\n",
              "      <td>NaN</td>\n",
              "      <td>NaN</td>\n",
              "      <td>NaN</td>\n",
              "    </tr>\n",
              "    <tr>\n",
              "      <th>std</th>\n",
              "      <td>NaN</td>\n",
              "      <td>2.818299e+09</td>\n",
              "      <td>NaN</td>\n",
              "      <td>NaN</td>\n",
              "      <td>NaN</td>\n",
              "      <td>NaN</td>\n",
              "      <td>NaN</td>\n",
              "      <td>NaN</td>\n",
              "      <td>NaN</td>\n",
              "      <td>NaN</td>\n",
              "      <td>NaN</td>\n",
              "      <td>NaN</td>\n",
              "      <td>NaN</td>\n",
              "      <td>NaN</td>\n",
              "      <td>NaN</td>\n",
              "      <td>NaN</td>\n",
              "      <td>NaN</td>\n",
              "      <td>NaN</td>\n",
              "      <td>NaN</td>\n",
              "      <td>NaN</td>\n",
              "      <td>NaN</td>\n",
              "      <td>NaN</td>\n",
              "      <td>NaN</td>\n",
              "      <td>NaN</td>\n",
              "      <td>NaN</td>\n",
              "      <td>NaN</td>\n",
              "      <td>NaN</td>\n",
              "    </tr>\n",
              "    <tr>\n",
              "      <th>min</th>\n",
              "      <td>NaN</td>\n",
              "      <td>-1.726000e+03</td>\n",
              "      <td>NaN</td>\n",
              "      <td>NaN</td>\n",
              "      <td>NaN</td>\n",
              "      <td>NaN</td>\n",
              "      <td>NaN</td>\n",
              "      <td>NaN</td>\n",
              "      <td>NaN</td>\n",
              "      <td>NaN</td>\n",
              "      <td>NaN</td>\n",
              "      <td>NaN</td>\n",
              "      <td>NaN</td>\n",
              "      <td>NaN</td>\n",
              "      <td>NaN</td>\n",
              "      <td>NaN</td>\n",
              "      <td>NaN</td>\n",
              "      <td>NaN</td>\n",
              "      <td>NaN</td>\n",
              "      <td>NaN</td>\n",
              "      <td>NaN</td>\n",
              "      <td>NaN</td>\n",
              "      <td>NaN</td>\n",
              "      <td>NaN</td>\n",
              "      <td>NaN</td>\n",
              "      <td>NaN</td>\n",
              "      <td>NaN</td>\n",
              "    </tr>\n",
              "    <tr>\n",
              "      <th>25%</th>\n",
              "      <td>NaN</td>\n",
              "      <td>2.700000e+01</td>\n",
              "      <td>NaN</td>\n",
              "      <td>NaN</td>\n",
              "      <td>NaN</td>\n",
              "      <td>NaN</td>\n",
              "      <td>NaN</td>\n",
              "      <td>NaN</td>\n",
              "      <td>NaN</td>\n",
              "      <td>NaN</td>\n",
              "      <td>NaN</td>\n",
              "      <td>NaN</td>\n",
              "      <td>NaN</td>\n",
              "      <td>NaN</td>\n",
              "      <td>NaN</td>\n",
              "      <td>NaN</td>\n",
              "      <td>NaN</td>\n",
              "      <td>NaN</td>\n",
              "      <td>NaN</td>\n",
              "      <td>NaN</td>\n",
              "      <td>NaN</td>\n",
              "      <td>NaN</td>\n",
              "      <td>NaN</td>\n",
              "      <td>NaN</td>\n",
              "      <td>NaN</td>\n",
              "      <td>NaN</td>\n",
              "      <td>NaN</td>\n",
              "    </tr>\n",
              "    <tr>\n",
              "      <th>50%</th>\n",
              "      <td>NaN</td>\n",
              "      <td>3.100000e+01</td>\n",
              "      <td>NaN</td>\n",
              "      <td>NaN</td>\n",
              "      <td>NaN</td>\n",
              "      <td>NaN</td>\n",
              "      <td>NaN</td>\n",
              "      <td>NaN</td>\n",
              "      <td>NaN</td>\n",
              "      <td>NaN</td>\n",
              "      <td>NaN</td>\n",
              "      <td>NaN</td>\n",
              "      <td>NaN</td>\n",
              "      <td>NaN</td>\n",
              "      <td>NaN</td>\n",
              "      <td>NaN</td>\n",
              "      <td>NaN</td>\n",
              "      <td>NaN</td>\n",
              "      <td>NaN</td>\n",
              "      <td>NaN</td>\n",
              "      <td>NaN</td>\n",
              "      <td>NaN</td>\n",
              "      <td>NaN</td>\n",
              "      <td>NaN</td>\n",
              "      <td>NaN</td>\n",
              "      <td>NaN</td>\n",
              "      <td>NaN</td>\n",
              "    </tr>\n",
              "    <tr>\n",
              "      <th>75%</th>\n",
              "      <td>NaN</td>\n",
              "      <td>3.600000e+01</td>\n",
              "      <td>NaN</td>\n",
              "      <td>NaN</td>\n",
              "      <td>NaN</td>\n",
              "      <td>NaN</td>\n",
              "      <td>NaN</td>\n",
              "      <td>NaN</td>\n",
              "      <td>NaN</td>\n",
              "      <td>NaN</td>\n",
              "      <td>NaN</td>\n",
              "      <td>NaN</td>\n",
              "      <td>NaN</td>\n",
              "      <td>NaN</td>\n",
              "      <td>NaN</td>\n",
              "      <td>NaN</td>\n",
              "      <td>NaN</td>\n",
              "      <td>NaN</td>\n",
              "      <td>NaN</td>\n",
              "      <td>NaN</td>\n",
              "      <td>NaN</td>\n",
              "      <td>NaN</td>\n",
              "      <td>NaN</td>\n",
              "      <td>NaN</td>\n",
              "      <td>NaN</td>\n",
              "      <td>NaN</td>\n",
              "      <td>NaN</td>\n",
              "    </tr>\n",
              "    <tr>\n",
              "      <th>max</th>\n",
              "      <td>NaN</td>\n",
              "      <td>1.000000e+11</td>\n",
              "      <td>NaN</td>\n",
              "      <td>NaN</td>\n",
              "      <td>NaN</td>\n",
              "      <td>NaN</td>\n",
              "      <td>NaN</td>\n",
              "      <td>NaN</td>\n",
              "      <td>NaN</td>\n",
              "      <td>NaN</td>\n",
              "      <td>NaN</td>\n",
              "      <td>NaN</td>\n",
              "      <td>NaN</td>\n",
              "      <td>NaN</td>\n",
              "      <td>NaN</td>\n",
              "      <td>NaN</td>\n",
              "      <td>NaN</td>\n",
              "      <td>NaN</td>\n",
              "      <td>NaN</td>\n",
              "      <td>NaN</td>\n",
              "      <td>NaN</td>\n",
              "      <td>NaN</td>\n",
              "      <td>NaN</td>\n",
              "      <td>NaN</td>\n",
              "      <td>NaN</td>\n",
              "      <td>NaN</td>\n",
              "      <td>NaN</td>\n",
              "    </tr>\n",
              "  </tbody>\n",
              "</table>\n",
              "</div>"
            ],
            "text/plain": [
              "                  Timestamp           Age Gender        Country state  \\\n",
              "count                  1259  1.259000e+03   1259           1259   744   \n",
              "unique                 1246           NaN     49             48    45   \n",
              "top     2014-08-27 12:37:50           NaN   Male  United States    CA   \n",
              "freq                      2           NaN    615            751   138   \n",
              "mean                    NaN  7.942815e+07    NaN            NaN   NaN   \n",
              "std                     NaN  2.818299e+09    NaN            NaN   NaN   \n",
              "min                     NaN -1.726000e+03    NaN            NaN   NaN   \n",
              "25%                     NaN  2.700000e+01    NaN            NaN   NaN   \n",
              "50%                     NaN  3.100000e+01    NaN            NaN   NaN   \n",
              "75%                     NaN  3.600000e+01    NaN            NaN   NaN   \n",
              "max                     NaN  1.000000e+11    NaN            NaN   NaN   \n",
              "\n",
              "       self_employed family_history treatment work_interfere no_employees  \\\n",
              "count           1241           1259      1259            995         1259   \n",
              "unique             2              2         2              4            6   \n",
              "top               No             No       Yes      Sometimes         6-25   \n",
              "freq            1095            767       637            465          290   \n",
              "mean             NaN            NaN       NaN            NaN          NaN   \n",
              "std              NaN            NaN       NaN            NaN          NaN   \n",
              "min              NaN            NaN       NaN            NaN          NaN   \n",
              "25%              NaN            NaN       NaN            NaN          NaN   \n",
              "50%              NaN            NaN       NaN            NaN          NaN   \n",
              "75%              NaN            NaN       NaN            NaN          NaN   \n",
              "max              NaN            NaN       NaN            NaN          NaN   \n",
              "\n",
              "       remote_work tech_company benefits care_options wellness_program  \\\n",
              "count         1259         1259     1259         1259             1259   \n",
              "unique           2            2        3            3                3   \n",
              "top             No          Yes      Yes           No               No   \n",
              "freq           883         1031      477          501              842   \n",
              "mean           NaN          NaN      NaN          NaN              NaN   \n",
              "std            NaN          NaN      NaN          NaN              NaN   \n",
              "min            NaN          NaN      NaN          NaN              NaN   \n",
              "25%            NaN          NaN      NaN          NaN              NaN   \n",
              "50%            NaN          NaN      NaN          NaN              NaN   \n",
              "75%            NaN          NaN      NaN          NaN              NaN   \n",
              "max            NaN          NaN      NaN          NaN              NaN   \n",
              "\n",
              "       seek_help   anonymity       leave mental_health_consequence  \\\n",
              "count       1259        1259        1259                      1259   \n",
              "unique         3           3           5                         3   \n",
              "top           No  Don't know  Don't know                        No   \n",
              "freq         646         819         563                       490   \n",
              "mean         NaN         NaN         NaN                       NaN   \n",
              "std          NaN         NaN         NaN                       NaN   \n",
              "min          NaN         NaN         NaN                       NaN   \n",
              "25%          NaN         NaN         NaN                       NaN   \n",
              "50%          NaN         NaN         NaN                       NaN   \n",
              "75%          NaN         NaN         NaN                       NaN   \n",
              "max          NaN         NaN         NaN                       NaN   \n",
              "\n",
              "       phys_health_consequence     coworkers supervisor  \\\n",
              "count                     1259          1259       1259   \n",
              "unique                       3             3          3   \n",
              "top                         No  Some of them        Yes   \n",
              "freq                       925           774        516   \n",
              "mean                       NaN           NaN        NaN   \n",
              "std                        NaN           NaN        NaN   \n",
              "min                        NaN           NaN        NaN   \n",
              "25%                        NaN           NaN        NaN   \n",
              "50%                        NaN           NaN        NaN   \n",
              "75%                        NaN           NaN        NaN   \n",
              "max                        NaN           NaN        NaN   \n",
              "\n",
              "       mental_health_interview phys_health_interview mental_vs_physical  \\\n",
              "count                     1259                  1259               1259   \n",
              "unique                       3                     3                  3   \n",
              "top                         No                 Maybe         Don't know   \n",
              "freq                      1008                   557                576   \n",
              "mean                       NaN                   NaN                NaN   \n",
              "std                        NaN                   NaN                NaN   \n",
              "min                        NaN                   NaN                NaN   \n",
              "25%                        NaN                   NaN                NaN   \n",
              "50%                        NaN                   NaN                NaN   \n",
              "75%                        NaN                   NaN                NaN   \n",
              "max                        NaN                   NaN                NaN   \n",
              "\n",
              "       obs_consequence                         comments  \n",
              "count             1259                              164  \n",
              "unique               2                              160  \n",
              "top                 No  * Small family business - YMMV.  \n",
              "freq              1075                                5  \n",
              "mean               NaN                              NaN  \n",
              "std                NaN                              NaN  \n",
              "min                NaN                              NaN  \n",
              "25%                NaN                              NaN  \n",
              "50%                NaN                              NaN  \n",
              "75%                NaN                              NaN  \n",
              "max                NaN                              NaN  "
            ]
          },
          "metadata": {
            "tags": []
          },
          "execution_count": 55
        }
      ]
    },
    {
      "cell_type": "markdown",
      "metadata": {
        "id": "loupVig9DgwN"
      },
      "source": [
        "#### Observations\n",
        "\n",
        "As we can see there is huge discrepancies in Age column of dataset. It is having _minimum value as -1726_ which in reality is not possible on the other hand side the _maximum limit is around 99999999_ which is not possible either, as the the age can't be less than 0 and till date maximum date recorded is 123.So we will work on this particular segment of 0-123. For the same we need to clean the data and remove the outliers.We have done this in __section 4.3__."
      ]
    },
    {
      "cell_type": "markdown",
      "metadata": {
        "id": "6wmDxm8SDgwN"
      },
      "source": [
        "<a id=section304></a> "
      ]
    },
    {
      "cell_type": "code",
      "metadata": {
        "_cell_guid": "4c9ac9d4-de2c-42d0-957b-71e495ab20ad",
        "_uuid": "2360d33dfda9393bba6a01bf9eacc74662ebcd66",
        "scrolled": false,
        "colab": {
          "base_uri": "https://localhost:8080/",
          "height": 719
        },
        "id": "fk13jBz9DgwO",
        "outputId": "d0194b9d-c581-42e1-9d55-b9de8af8de9b"
      },
      "source": [
        "mh.sample(10)                                                                  # Display a random 10 rows from the data set"
      ],
      "execution_count": null,
      "outputs": [
        {
          "output_type": "execute_result",
          "data": {
            "text/html": [
              "<div>\n",
              "<style scoped>\n",
              "    .dataframe tbody tr th:only-of-type {\n",
              "        vertical-align: middle;\n",
              "    }\n",
              "\n",
              "    .dataframe tbody tr th {\n",
              "        vertical-align: top;\n",
              "    }\n",
              "\n",
              "    .dataframe thead th {\n",
              "        text-align: right;\n",
              "    }\n",
              "</style>\n",
              "<table border=\"1\" class=\"dataframe\">\n",
              "  <thead>\n",
              "    <tr style=\"text-align: right;\">\n",
              "      <th></th>\n",
              "      <th>Timestamp</th>\n",
              "      <th>Age</th>\n",
              "      <th>Gender</th>\n",
              "      <th>Country</th>\n",
              "      <th>state</th>\n",
              "      <th>self_employed</th>\n",
              "      <th>family_history</th>\n",
              "      <th>treatment</th>\n",
              "      <th>work_interfere</th>\n",
              "      <th>no_employees</th>\n",
              "      <th>remote_work</th>\n",
              "      <th>tech_company</th>\n",
              "      <th>benefits</th>\n",
              "      <th>care_options</th>\n",
              "      <th>wellness_program</th>\n",
              "      <th>seek_help</th>\n",
              "      <th>anonymity</th>\n",
              "      <th>leave</th>\n",
              "      <th>mental_health_consequence</th>\n",
              "      <th>phys_health_consequence</th>\n",
              "      <th>coworkers</th>\n",
              "      <th>supervisor</th>\n",
              "      <th>mental_health_interview</th>\n",
              "      <th>phys_health_interview</th>\n",
              "      <th>mental_vs_physical</th>\n",
              "      <th>obs_consequence</th>\n",
              "      <th>comments</th>\n",
              "    </tr>\n",
              "  </thead>\n",
              "  <tbody>\n",
              "    <tr>\n",
              "      <th>104</th>\n",
              "      <td>2014-08-27 12:22:55</td>\n",
              "      <td>29</td>\n",
              "      <td>Male</td>\n",
              "      <td>United States</td>\n",
              "      <td>NY</td>\n",
              "      <td>No</td>\n",
              "      <td>No</td>\n",
              "      <td>No</td>\n",
              "      <td>Never</td>\n",
              "      <td>More than 1000</td>\n",
              "      <td>No</td>\n",
              "      <td>Yes</td>\n",
              "      <td>Yes</td>\n",
              "      <td>Not sure</td>\n",
              "      <td>Yes</td>\n",
              "      <td>Don't know</td>\n",
              "      <td>Don't know</td>\n",
              "      <td>Somewhat easy</td>\n",
              "      <td>No</td>\n",
              "      <td>No</td>\n",
              "      <td>Some of them</td>\n",
              "      <td>Yes</td>\n",
              "      <td>No</td>\n",
              "      <td>No</td>\n",
              "      <td>Don't know</td>\n",
              "      <td>No</td>\n",
              "      <td>NaN</td>\n",
              "    </tr>\n",
              "    <tr>\n",
              "      <th>283</th>\n",
              "      <td>2014-08-27 14:10:47</td>\n",
              "      <td>35</td>\n",
              "      <td>male</td>\n",
              "      <td>United States</td>\n",
              "      <td>NY</td>\n",
              "      <td>No</td>\n",
              "      <td>Yes</td>\n",
              "      <td>Yes</td>\n",
              "      <td>Sometimes</td>\n",
              "      <td>26-100</td>\n",
              "      <td>No</td>\n",
              "      <td>Yes</td>\n",
              "      <td>Yes</td>\n",
              "      <td>Yes</td>\n",
              "      <td>No</td>\n",
              "      <td>No</td>\n",
              "      <td>Yes</td>\n",
              "      <td>Somewhat difficult</td>\n",
              "      <td>Yes</td>\n",
              "      <td>No</td>\n",
              "      <td>No</td>\n",
              "      <td>Some of them</td>\n",
              "      <td>No</td>\n",
              "      <td>Maybe</td>\n",
              "      <td>Don't know</td>\n",
              "      <td>No</td>\n",
              "      <td>NaN</td>\n",
              "    </tr>\n",
              "    <tr>\n",
              "      <th>268</th>\n",
              "      <td>2014-08-27 13:55:16</td>\n",
              "      <td>37</td>\n",
              "      <td>Female</td>\n",
              "      <td>United States</td>\n",
              "      <td>CA</td>\n",
              "      <td>No</td>\n",
              "      <td>Yes</td>\n",
              "      <td>Yes</td>\n",
              "      <td>Often</td>\n",
              "      <td>26-100</td>\n",
              "      <td>No</td>\n",
              "      <td>Yes</td>\n",
              "      <td>Yes</td>\n",
              "      <td>Yes</td>\n",
              "      <td>No</td>\n",
              "      <td>No</td>\n",
              "      <td>Yes</td>\n",
              "      <td>Don't know</td>\n",
              "      <td>Maybe</td>\n",
              "      <td>No</td>\n",
              "      <td>Some of them</td>\n",
              "      <td>Some of them</td>\n",
              "      <td>No</td>\n",
              "      <td>Yes</td>\n",
              "      <td>Don't know</td>\n",
              "      <td>No</td>\n",
              "      <td>NaN</td>\n",
              "    </tr>\n",
              "    <tr>\n",
              "      <th>953</th>\n",
              "      <td>2014-08-29 01:40:36</td>\n",
              "      <td>36</td>\n",
              "      <td>Female</td>\n",
              "      <td>United States</td>\n",
              "      <td>WA</td>\n",
              "      <td>No</td>\n",
              "      <td>Yes</td>\n",
              "      <td>Yes</td>\n",
              "      <td>Rarely</td>\n",
              "      <td>6-25</td>\n",
              "      <td>No</td>\n",
              "      <td>Yes</td>\n",
              "      <td>Don't know</td>\n",
              "      <td>No</td>\n",
              "      <td>No</td>\n",
              "      <td>Don't know</td>\n",
              "      <td>Don't know</td>\n",
              "      <td>Don't know</td>\n",
              "      <td>Yes</td>\n",
              "      <td>Maybe</td>\n",
              "      <td>Some of them</td>\n",
              "      <td>No</td>\n",
              "      <td>No</td>\n",
              "      <td>No</td>\n",
              "      <td>Don't know</td>\n",
              "      <td>No</td>\n",
              "      <td>NaN</td>\n",
              "    </tr>\n",
              "    <tr>\n",
              "      <th>5</th>\n",
              "      <td>2014-08-27 11:31:22</td>\n",
              "      <td>33</td>\n",
              "      <td>Male</td>\n",
              "      <td>United States</td>\n",
              "      <td>TN</td>\n",
              "      <td>NaN</td>\n",
              "      <td>Yes</td>\n",
              "      <td>No</td>\n",
              "      <td>Sometimes</td>\n",
              "      <td>6-25</td>\n",
              "      <td>No</td>\n",
              "      <td>Yes</td>\n",
              "      <td>Yes</td>\n",
              "      <td>Not sure</td>\n",
              "      <td>No</td>\n",
              "      <td>Don't know</td>\n",
              "      <td>Don't know</td>\n",
              "      <td>Don't know</td>\n",
              "      <td>No</td>\n",
              "      <td>No</td>\n",
              "      <td>Yes</td>\n",
              "      <td>Yes</td>\n",
              "      <td>No</td>\n",
              "      <td>Maybe</td>\n",
              "      <td>Don't know</td>\n",
              "      <td>No</td>\n",
              "      <td>NaN</td>\n",
              "    </tr>\n",
              "    <tr>\n",
              "      <th>363</th>\n",
              "      <td>2014-08-27 15:05:00</td>\n",
              "      <td>32</td>\n",
              "      <td>Male</td>\n",
              "      <td>United States</td>\n",
              "      <td>MI</td>\n",
              "      <td>No</td>\n",
              "      <td>Yes</td>\n",
              "      <td>Yes</td>\n",
              "      <td>Rarely</td>\n",
              "      <td>More than 1000</td>\n",
              "      <td>No</td>\n",
              "      <td>No</td>\n",
              "      <td>Yes</td>\n",
              "      <td>Yes</td>\n",
              "      <td>Yes</td>\n",
              "      <td>Yes</td>\n",
              "      <td>Yes</td>\n",
              "      <td>Don't know</td>\n",
              "      <td>No</td>\n",
              "      <td>No</td>\n",
              "      <td>Some of them</td>\n",
              "      <td>Yes</td>\n",
              "      <td>No</td>\n",
              "      <td>Yes</td>\n",
              "      <td>Yes</td>\n",
              "      <td>No</td>\n",
              "      <td>NaN</td>\n",
              "    </tr>\n",
              "    <tr>\n",
              "      <th>524</th>\n",
              "      <td>2014-08-27 17:22:29</td>\n",
              "      <td>36</td>\n",
              "      <td>M</td>\n",
              "      <td>United States</td>\n",
              "      <td>IL</td>\n",
              "      <td>Yes</td>\n",
              "      <td>Yes</td>\n",
              "      <td>Yes</td>\n",
              "      <td>Sometimes</td>\n",
              "      <td>1-5</td>\n",
              "      <td>Yes</td>\n",
              "      <td>Yes</td>\n",
              "      <td>Don't know</td>\n",
              "      <td>Yes</td>\n",
              "      <td>Don't know</td>\n",
              "      <td>No</td>\n",
              "      <td>Yes</td>\n",
              "      <td>Somewhat difficult</td>\n",
              "      <td>Maybe</td>\n",
              "      <td>No</td>\n",
              "      <td>Some of them</td>\n",
              "      <td>Yes</td>\n",
              "      <td>No</td>\n",
              "      <td>Yes</td>\n",
              "      <td>Yes</td>\n",
              "      <td>No</td>\n",
              "      <td>NaN</td>\n",
              "    </tr>\n",
              "    <tr>\n",
              "      <th>945</th>\n",
              "      <td>2014-08-29 00:05:07</td>\n",
              "      <td>39</td>\n",
              "      <td>Male</td>\n",
              "      <td>United States</td>\n",
              "      <td>AZ</td>\n",
              "      <td>No</td>\n",
              "      <td>Yes</td>\n",
              "      <td>Yes</td>\n",
              "      <td>Often</td>\n",
              "      <td>26-100</td>\n",
              "      <td>No</td>\n",
              "      <td>Yes</td>\n",
              "      <td>Yes</td>\n",
              "      <td>Yes</td>\n",
              "      <td>No</td>\n",
              "      <td>No</td>\n",
              "      <td>Yes</td>\n",
              "      <td>Don't know</td>\n",
              "      <td>Yes</td>\n",
              "      <td>No</td>\n",
              "      <td>Some of them</td>\n",
              "      <td>No</td>\n",
              "      <td>No</td>\n",
              "      <td>No</td>\n",
              "      <td>No</td>\n",
              "      <td>No</td>\n",
              "      <td>NaN</td>\n",
              "    </tr>\n",
              "    <tr>\n",
              "      <th>498</th>\n",
              "      <td>2014-08-27 16:28:20</td>\n",
              "      <td>54</td>\n",
              "      <td>Male</td>\n",
              "      <td>United Kingdom</td>\n",
              "      <td>NaN</td>\n",
              "      <td>No</td>\n",
              "      <td>No</td>\n",
              "      <td>Yes</td>\n",
              "      <td>Sometimes</td>\n",
              "      <td>More than 1000</td>\n",
              "      <td>Yes</td>\n",
              "      <td>No</td>\n",
              "      <td>No</td>\n",
              "      <td>Yes</td>\n",
              "      <td>Yes</td>\n",
              "      <td>Yes</td>\n",
              "      <td>Yes</td>\n",
              "      <td>Very easy</td>\n",
              "      <td>No</td>\n",
              "      <td>No</td>\n",
              "      <td>Yes</td>\n",
              "      <td>Yes</td>\n",
              "      <td>Maybe</td>\n",
              "      <td>Maybe</td>\n",
              "      <td>No</td>\n",
              "      <td>No</td>\n",
              "      <td>NaN</td>\n",
              "    </tr>\n",
              "    <tr>\n",
              "      <th>615</th>\n",
              "      <td>2014-08-28 00:05:34</td>\n",
              "      <td>30</td>\n",
              "      <td>Male</td>\n",
              "      <td>United States</td>\n",
              "      <td>GA</td>\n",
              "      <td>Yes</td>\n",
              "      <td>No</td>\n",
              "      <td>Yes</td>\n",
              "      <td>Often</td>\n",
              "      <td>6-25</td>\n",
              "      <td>Yes</td>\n",
              "      <td>Yes</td>\n",
              "      <td>No</td>\n",
              "      <td>Not sure</td>\n",
              "      <td>No</td>\n",
              "      <td>Yes</td>\n",
              "      <td>Don't know</td>\n",
              "      <td>Somewhat difficult</td>\n",
              "      <td>No</td>\n",
              "      <td>No</td>\n",
              "      <td>Yes</td>\n",
              "      <td>Yes</td>\n",
              "      <td>No</td>\n",
              "      <td>Maybe</td>\n",
              "      <td>Yes</td>\n",
              "      <td>No</td>\n",
              "      <td>NaN</td>\n",
              "    </tr>\n",
              "  </tbody>\n",
              "</table>\n",
              "</div>"
            ],
            "text/plain": [
              "               Timestamp  Age   Gender         Country state self_employed  \\\n",
              "104  2014-08-27 12:22:55   29     Male   United States    NY            No   \n",
              "283  2014-08-27 14:10:47   35     male   United States    NY            No   \n",
              "268  2014-08-27 13:55:16   37   Female   United States    CA            No   \n",
              "953  2014-08-29 01:40:36   36  Female    United States    WA            No   \n",
              "5    2014-08-27 11:31:22   33     Male   United States    TN           NaN   \n",
              "363  2014-08-27 15:05:00   32     Male   United States    MI            No   \n",
              "524  2014-08-27 17:22:29   36        M   United States    IL           Yes   \n",
              "945  2014-08-29 00:05:07   39     Male   United States    AZ            No   \n",
              "498  2014-08-27 16:28:20   54     Male  United Kingdom   NaN            No   \n",
              "615  2014-08-28 00:05:34   30     Male   United States    GA           Yes   \n",
              "\n",
              "    family_history treatment work_interfere    no_employees remote_work  \\\n",
              "104             No        No          Never  More than 1000          No   \n",
              "283            Yes       Yes      Sometimes          26-100          No   \n",
              "268            Yes       Yes          Often          26-100          No   \n",
              "953            Yes       Yes         Rarely            6-25          No   \n",
              "5              Yes        No      Sometimes            6-25          No   \n",
              "363            Yes       Yes         Rarely  More than 1000          No   \n",
              "524            Yes       Yes      Sometimes             1-5         Yes   \n",
              "945            Yes       Yes          Often          26-100          No   \n",
              "498             No       Yes      Sometimes  More than 1000         Yes   \n",
              "615             No       Yes          Often            6-25         Yes   \n",
              "\n",
              "    tech_company    benefits care_options wellness_program   seek_help  \\\n",
              "104          Yes         Yes     Not sure              Yes  Don't know   \n",
              "283          Yes         Yes          Yes               No          No   \n",
              "268          Yes         Yes          Yes               No          No   \n",
              "953          Yes  Don't know           No               No  Don't know   \n",
              "5            Yes         Yes     Not sure               No  Don't know   \n",
              "363           No         Yes          Yes              Yes         Yes   \n",
              "524          Yes  Don't know          Yes       Don't know          No   \n",
              "945          Yes         Yes          Yes               No          No   \n",
              "498           No          No          Yes              Yes         Yes   \n",
              "615          Yes          No     Not sure               No         Yes   \n",
              "\n",
              "      anonymity               leave mental_health_consequence  \\\n",
              "104  Don't know       Somewhat easy                        No   \n",
              "283         Yes  Somewhat difficult                       Yes   \n",
              "268         Yes          Don't know                     Maybe   \n",
              "953  Don't know          Don't know                       Yes   \n",
              "5    Don't know          Don't know                        No   \n",
              "363         Yes          Don't know                        No   \n",
              "524         Yes  Somewhat difficult                     Maybe   \n",
              "945         Yes          Don't know                       Yes   \n",
              "498         Yes           Very easy                        No   \n",
              "615  Don't know  Somewhat difficult                        No   \n",
              "\n",
              "    phys_health_consequence     coworkers    supervisor  \\\n",
              "104                      No  Some of them           Yes   \n",
              "283                      No            No  Some of them   \n",
              "268                      No  Some of them  Some of them   \n",
              "953                   Maybe  Some of them            No   \n",
              "5                        No           Yes           Yes   \n",
              "363                      No  Some of them           Yes   \n",
              "524                      No  Some of them           Yes   \n",
              "945                      No  Some of them            No   \n",
              "498                      No           Yes           Yes   \n",
              "615                      No           Yes           Yes   \n",
              "\n",
              "    mental_health_interview phys_health_interview mental_vs_physical  \\\n",
              "104                      No                    No         Don't know   \n",
              "283                      No                 Maybe         Don't know   \n",
              "268                      No                   Yes         Don't know   \n",
              "953                      No                    No         Don't know   \n",
              "5                        No                 Maybe         Don't know   \n",
              "363                      No                   Yes                Yes   \n",
              "524                      No                   Yes                Yes   \n",
              "945                      No                    No                 No   \n",
              "498                   Maybe                 Maybe                 No   \n",
              "615                      No                 Maybe                Yes   \n",
              "\n",
              "    obs_consequence comments  \n",
              "104              No      NaN  \n",
              "283              No      NaN  \n",
              "268              No      NaN  \n",
              "953              No      NaN  \n",
              "5                No      NaN  \n",
              "363              No      NaN  \n",
              "524              No      NaN  \n",
              "945              No      NaN  \n",
              "498              No      NaN  \n",
              "615              No      NaN  "
            ]
          },
          "metadata": {
            "tags": []
          },
          "execution_count": 56
        }
      ]
    },
    {
      "cell_type": "markdown",
      "metadata": {
        "id": "qwow9ECbDgwO"
      },
      "source": [
        "<a id=section305><a/>"
      ]
    },
    {
      "cell_type": "code",
      "metadata": {
        "_cell_guid": "699bc657-2973-4a0e-bb9b-e64f0b87a844",
        "_uuid": "f873c590452c8bc6d846cfcae6f202b0f2af749d",
        "scrolled": true,
        "id": "2zeYMccyDgwP"
      },
      "source": [
        "#import pandas_profiling                                                      # Get a quick overview for all the variables using pandas_profiling                                         \n",
        "#profile = pandas_profiling.ProfileReport(mh)\n",
        "#profile.to_file(outputfile=\"myoutputfile.html\")                              # HTML file will be downloaded to your workspace"
      ],
      "execution_count": null,
      "outputs": []
    },
    {
      "cell_type": "markdown",
      "metadata": {
        "_cell_guid": "97bc7f0f-e6e0-43d0-afd3-552c384d85b8",
        "_uuid": "2b973e81559b4cd877756318c68811137e0ac6c2",
        "id": "as6zuBBbDgwQ"
      },
      "source": [
        "<a id=section306></a> \n",
        "### 3.6. Initial observations:\n",
        "\n",
        "- Summary of data types in this dataset:\n",
        " - <em>Numeric</em>: <strong>Age</strong> (integer)\n",
        " - <em>Object</em>: Everything else\n",
        "- <strong>Gender</strong> has 49 distinct responses. Group the responses into fewer categories. \n",
        "- <strong>Age</strong> has some values that are too low or too high to be real ages.\n",
        "- The following variables have null values that may need to addressed.\n",
        " - <strong>state</strong>:  This should be null only when <strong>country</strong> is something other than the US\n",
        " - <strong>self_employed</strong>: There are 18 missing values. We need to investigate why.\n",
        " - <strong>work-interfere</strong>:  There are 264 missing values. The question begins with \"If you have a mental health condition,...\" so lets assume that those who did not respond, did so because they do not have a mental health condition currently. This is an imperfect assumption since we can't know that for sure; and because some people may have felt the need to respond even if they don't have a mental health condition, if they did not feel comfortable they left the question blank.\n",
        " - <strong>comments</strong>: There are 1095 missing values. It was an optional text box so it's reasonable to expect that many (most) respondents would leave it blank. We may be able to learn something by doing a text analysis on the submitted comments: are there themes that come up in the comments that would inform the next version of the survey - for example, a popular theme might justify creating its own multiple-choice question next time.\n"
      ]
    },
    {
      "cell_type": "markdown",
      "metadata": {
        "id": "plEfiDfZDgwQ"
      },
      "source": [
        "#### Explore the numeric variable Age to confirm whether all values are within a reasonable range and if any are NaN."
      ]
    },
    {
      "cell_type": "code",
      "metadata": {
        "_cell_guid": "a19eb500-db4c-4918-a269-46a656624fa9",
        "_uuid": "4a28fefa960f73389540bbe02ffaee1028fbda67",
        "colab": {
          "base_uri": "https://localhost:8080/"
        },
        "id": "ASTzboYDDgwR",
        "outputId": "432cb830-5d99-4593-99b6-2ba18279f117"
      },
      "source": [
        "print(\"'Age'\")                                                                \n",
        "print(\"Minimum value: \", mh[\"Age\"].min())\n",
        "print(\"Maximum value: \", mh[\"Age\"].max())\n",
        "print(\"How many values are NaN?: \", pd.isnull(mh['Age']).sum())"
      ],
      "execution_count": null,
      "outputs": [
        {
          "output_type": "stream",
          "text": [
            "'Age'\n",
            "Minimum value:  -1726\n",
            "Maximum value:  99999999999\n",
            "How many values are NaN?:  0\n"
          ],
          "name": "stdout"
        }
      ]
    },
    {
      "cell_type": "code",
      "metadata": {
        "colab": {
          "base_uri": "https://localhost:8080/"
        },
        "id": "l2KhB8rSDgwR",
        "outputId": "78405fff-bd13-47db-86f3-6cfe1a7d8800"
      },
      "source": [
        "mh.Age.max()\n",
        "a=mh.Age[mh.Age>123]\n",
        "b=mh.Age[mh.Age<0]\n",
        "print(a)\n",
        "print(b)"
      ],
      "execution_count": null,
      "outputs": [
        {
          "output_type": "stream",
          "text": [
            "364            329\n",
            "390    99999999999\n",
            "Name: Age, dtype: int64\n",
            "143      -29\n",
            "715    -1726\n",
            "1127      -1\n",
            "Name: Age, dtype: int64\n"
          ],
          "name": "stdout"
        }
      ]
    },
    {
      "cell_type": "markdown",
      "metadata": {
        "id": "31WIilq-DgwS"
      },
      "source": [
        "#### Count the number of distinct responses and list them."
      ]
    },
    {
      "cell_type": "code",
      "metadata": {
        "_cell_guid": "82f59e8e-6339-47f5-a0da-ebe29136b2b7",
        "_uuid": "923f820cd342acc19fe31c2aa0761891aa127322",
        "scrolled": false,
        "colab": {
          "base_uri": "https://localhost:8080/"
        },
        "id": "KZpebDuBDgwT",
        "outputId": "4463438a-ee26-4377-e1af-9c0977937bef"
      },
      "source": [
        "print(\"Count of distinct responses for Gender:\", len(set(mh['Gender'])))      # Learn more about the variable Gender, which appears not to be standardized with 49 distinct responses.\n",
        "print(\"Distinct responses for Gender:\", set(mh['Gender']))                    "
      ],
      "execution_count": null,
      "outputs": [
        {
          "output_type": "stream",
          "text": [
            "Count of distinct responses for Gender: 49\n",
            "Distinct responses for Gender: {'Male', 'Enby', 'Trans woman', 'female', 'm', 'Female (cis)', 'Trans-female', 'Female (trans)', 'f', 'queer', 'Female ', 'Male (CIS)', 'Guy (-ish) ^_^', 'queer/she/they', 'Nah', 'woman', 'Female', 'Cis Female', 'Agender', 'Male-ish', 'cis-female/femme', 'Cis Male', 'fluid', 'Male ', 'Femake', 'Make', 'Man', 'maile', 'non-binary', 'A little about you', 'All', 'Woman', 'cis male', 'male', 'p', 'ostensibly male, unsure what that really means', 'Neuter', 'M', 'male leaning androgynous', 'Mail', 'F', 'Mal', 'Androgyne', 'Malr', 'something kinda male?', 'msle', 'femail', 'Genderqueer', 'Cis Man'}\n"
          ],
          "name": "stdout"
        }
      ]
    },
    {
      "cell_type": "markdown",
      "metadata": {
        "_cell_guid": "091757f1-8a59-4cdf-a6d0-89c478ea1246",
        "_uuid": "75f8057a72671892f1feabfaa34b7981425401b4",
        "id": "Z7RTyie3DgwT"
      },
      "source": [
        "<a id=section307></a> \n",
        "### 3.7. Final observations \n",
        "\n",
        "- Variables to transform prior to analysis:\n",
        " - Standardize all column headers to lower case (to prevent typos!)\n",
        "  - __Timestamp__: convert to datetime\n",
        " - __Age__: remove outliers as it is visible that the age column have two outliers as _329, 999999999999, -1, -1729 and -29_.\n",
        " - __Gender__: group into standardized categories \n",
        "- It will be important to decide how to handle NaN values.\n"
      ]
    },
    {
      "cell_type": "markdown",
      "metadata": {
        "_cell_guid": "aba98060-ff79-406b-a647-a8ddd6edd103",
        "_uuid": "66a131e7e2c6d02635d90af1a7860a8e069e2081",
        "id": "yPn1ZOD0DgwU"
      },
      "source": [
        "<a id=section4></a> \n",
        "### 4. Data Normalization"
      ]
    },
    {
      "cell_type": "markdown",
      "metadata": {
        "id": "Hy-rEASuDgwU"
      },
      "source": [
        "<a id=section401><a/>"
      ]
    },
    {
      "cell_type": "markdown",
      "metadata": {
        "id": "XcMACfLKDgwU"
      },
      "source": [
        "### 4.1. Standardize all column headers to lower case "
      ]
    },
    {
      "cell_type": "code",
      "metadata": {
        "_cell_guid": "0229f0d5-4eac-46a8-b1ff-647591a2484c",
        "_uuid": "984c7ecac94372f69ff32da1010f509ec6c7367a",
        "scrolled": false,
        "colab": {
          "base_uri": "https://localhost:8080/"
        },
        "id": "RfnvI5WnDgwV",
        "outputId": "32e20693-a27f-43e8-f2d3-6b4e7e7ba93a"
      },
      "source": [
        "mh.columns = map(str.lower, mh.columns)                                  # map() function returns a list of results after applying the given function\n",
        "                                                                         # to each item of a given iterable.\n",
        "mh.dtypes                                                                # Confirm that all variable names are now lower case"
      ],
      "execution_count": null,
      "outputs": [
        {
          "output_type": "execute_result",
          "data": {
            "text/plain": [
              "timestamp                    object\n",
              "age                           int64\n",
              "gender                       object\n",
              "country                      object\n",
              "state                        object\n",
              "self_employed                object\n",
              "family_history               object\n",
              "treatment                    object\n",
              "work_interfere               object\n",
              "no_employees                 object\n",
              "remote_work                  object\n",
              "tech_company                 object\n",
              "benefits                     object\n",
              "care_options                 object\n",
              "wellness_program             object\n",
              "seek_help                    object\n",
              "anonymity                    object\n",
              "leave                        object\n",
              "mental_health_consequence    object\n",
              "phys_health_consequence      object\n",
              "coworkers                    object\n",
              "supervisor                   object\n",
              "mental_health_interview      object\n",
              "phys_health_interview        object\n",
              "mental_vs_physical           object\n",
              "obs_consequence              object\n",
              "comments                     object\n",
              "dtype: object"
            ]
          },
          "metadata": {
            "tags": []
          },
          "execution_count": 61
        }
      ]
    },
    {
      "cell_type": "markdown",
      "metadata": {
        "_cell_guid": "99df77ab-3e99-4499-878d-61e663de7ea5",
        "_uuid": "5e00748653fdb8906fa9dd3d80b24e96aefbe854",
        "id": "T6AcrAFsDgwV"
      },
      "source": [
        "<a id=section402></a> \n",
        "### 4.2. Convert \"timestamp\" to datetime"
      ]
    },
    {
      "cell_type": "code",
      "metadata": {
        "_cell_guid": "6d99e3db-9918-4b25-a9cf-31d0dc2b7f09",
        "_uuid": "eeae1c609a9507228ddd703f1b1dea25ac8064ff",
        "scrolled": true,
        "colab": {
          "base_uri": "https://localhost:8080/"
        },
        "id": "S6FzPoNLDgwV",
        "outputId": "a91b92d8-cd64-4980-969a-9cf4718c1981"
      },
      "source": [
        "mh['timestamp'] = pd.to_datetime(mh['timestamp'])                        # Convert \"timestamp\" data type from object to datetime                      \n",
        "mh.dtypes                                                               "
      ],
      "execution_count": null,
      "outputs": [
        {
          "output_type": "execute_result",
          "data": {
            "text/plain": [
              "timestamp                    datetime64[ns]\n",
              "age                                   int64\n",
              "gender                               object\n",
              "country                              object\n",
              "state                                object\n",
              "self_employed                        object\n",
              "family_history                       object\n",
              "treatment                            object\n",
              "work_interfere                       object\n",
              "no_employees                         object\n",
              "remote_work                          object\n",
              "tech_company                         object\n",
              "benefits                             object\n",
              "care_options                         object\n",
              "wellness_program                     object\n",
              "seek_help                            object\n",
              "anonymity                            object\n",
              "leave                                object\n",
              "mental_health_consequence            object\n",
              "phys_health_consequence              object\n",
              "coworkers                            object\n",
              "supervisor                           object\n",
              "mental_health_interview              object\n",
              "phys_health_interview                object\n",
              "mental_vs_physical                   object\n",
              "obs_consequence                      object\n",
              "comments                             object\n",
              "dtype: object"
            ]
          },
          "metadata": {
            "tags": []
          },
          "execution_count": 62
        }
      ]
    },
    {
      "cell_type": "markdown",
      "metadata": {
        "id": "HkaUU6QaDgwW"
      },
      "source": [
        "<a id=section403></a>\n",
        "### 4.3. Missing Data and its imputation"
      ]
    },
    {
      "cell_type": "code",
      "metadata": {
        "colab": {
          "base_uri": "https://localhost:8080/"
        },
        "id": "coQ85fnmDgwW",
        "outputId": "679c10bb-592d-4af0-86fb-071999f69d0e"
      },
      "source": [
        "#missing data\n",
        "total = mh.isnull().sum().sort_values(ascending=False)\n",
        "percent = (mh.isnull().sum()/mh.isnull().count()).sort_values(ascending=False)\n",
        "missing_data = pd.concat([total, percent], axis=1, keys=['Total', 'Percent'])\n",
        "missing_data.head(20)\n",
        "print(missing_data)"
      ],
      "execution_count": null,
      "outputs": [
        {
          "output_type": "stream",
          "text": [
            "                           Total   Percent\n",
            "comments                    1095  0.869738\n",
            "state                        515  0.409055\n",
            "work_interfere               264  0.209690\n",
            "self_employed                 18  0.014297\n",
            "benefits                       0  0.000000\n",
            "age                            0  0.000000\n",
            "gender                         0  0.000000\n",
            "country                        0  0.000000\n",
            "family_history                 0  0.000000\n",
            "treatment                      0  0.000000\n",
            "no_employees                   0  0.000000\n",
            "remote_work                    0  0.000000\n",
            "tech_company                   0  0.000000\n",
            "care_options                   0  0.000000\n",
            "obs_consequence                0  0.000000\n",
            "wellness_program               0  0.000000\n",
            "seek_help                      0  0.000000\n",
            "anonymity                      0  0.000000\n",
            "leave                          0  0.000000\n",
            "mental_health_consequence      0  0.000000\n",
            "phys_health_consequence        0  0.000000\n",
            "coworkers                      0  0.000000\n",
            "supervisor                     0  0.000000\n",
            "mental_health_interview        0  0.000000\n",
            "phys_health_interview          0  0.000000\n",
            "mental_vs_physical             0  0.000000\n",
            "timestamp                      0  0.000000\n"
          ],
          "name": "stdout"
        }
      ]
    },
    {
      "cell_type": "code",
      "metadata": {
        "colab": {
          "base_uri": "https://localhost:8080/",
          "height": 309
        },
        "id": "HANC_rAKDgwW",
        "outputId": "78b8946f-aac4-46ae-88d2-980629e1bcc6"
      },
      "source": [
        "#dealing with missing data\n",
        "#Let’s get rid of the variables \"Timestamp\",“comments”, just to make our lives easier.\n",
        "mh = mh.drop(['comments'], axis= 1)\n",
        "mh = mh.drop(['timestamp'], axis= 1)\n",
        "\n",
        "mh.head(5)"
      ],
      "execution_count": null,
      "outputs": [
        {
          "output_type": "execute_result",
          "data": {
            "text/html": [
              "<div>\n",
              "<style scoped>\n",
              "    .dataframe tbody tr th:only-of-type {\n",
              "        vertical-align: middle;\n",
              "    }\n",
              "\n",
              "    .dataframe tbody tr th {\n",
              "        vertical-align: top;\n",
              "    }\n",
              "\n",
              "    .dataframe thead th {\n",
              "        text-align: right;\n",
              "    }\n",
              "</style>\n",
              "<table border=\"1\" class=\"dataframe\">\n",
              "  <thead>\n",
              "    <tr style=\"text-align: right;\">\n",
              "      <th></th>\n",
              "      <th>age</th>\n",
              "      <th>gender</th>\n",
              "      <th>country</th>\n",
              "      <th>state</th>\n",
              "      <th>self_employed</th>\n",
              "      <th>family_history</th>\n",
              "      <th>treatment</th>\n",
              "      <th>work_interfere</th>\n",
              "      <th>no_employees</th>\n",
              "      <th>remote_work</th>\n",
              "      <th>tech_company</th>\n",
              "      <th>benefits</th>\n",
              "      <th>care_options</th>\n",
              "      <th>wellness_program</th>\n",
              "      <th>seek_help</th>\n",
              "      <th>anonymity</th>\n",
              "      <th>leave</th>\n",
              "      <th>mental_health_consequence</th>\n",
              "      <th>phys_health_consequence</th>\n",
              "      <th>coworkers</th>\n",
              "      <th>supervisor</th>\n",
              "      <th>mental_health_interview</th>\n",
              "      <th>phys_health_interview</th>\n",
              "      <th>mental_vs_physical</th>\n",
              "      <th>obs_consequence</th>\n",
              "    </tr>\n",
              "  </thead>\n",
              "  <tbody>\n",
              "    <tr>\n",
              "      <th>0</th>\n",
              "      <td>37</td>\n",
              "      <td>Female</td>\n",
              "      <td>United States</td>\n",
              "      <td>IL</td>\n",
              "      <td>NaN</td>\n",
              "      <td>No</td>\n",
              "      <td>Yes</td>\n",
              "      <td>Often</td>\n",
              "      <td>6-25</td>\n",
              "      <td>No</td>\n",
              "      <td>Yes</td>\n",
              "      <td>Yes</td>\n",
              "      <td>Not sure</td>\n",
              "      <td>No</td>\n",
              "      <td>Yes</td>\n",
              "      <td>Yes</td>\n",
              "      <td>Somewhat easy</td>\n",
              "      <td>No</td>\n",
              "      <td>No</td>\n",
              "      <td>Some of them</td>\n",
              "      <td>Yes</td>\n",
              "      <td>No</td>\n",
              "      <td>Maybe</td>\n",
              "      <td>Yes</td>\n",
              "      <td>No</td>\n",
              "    </tr>\n",
              "    <tr>\n",
              "      <th>1</th>\n",
              "      <td>44</td>\n",
              "      <td>M</td>\n",
              "      <td>United States</td>\n",
              "      <td>IN</td>\n",
              "      <td>NaN</td>\n",
              "      <td>No</td>\n",
              "      <td>No</td>\n",
              "      <td>Rarely</td>\n",
              "      <td>More than 1000</td>\n",
              "      <td>No</td>\n",
              "      <td>No</td>\n",
              "      <td>Don't know</td>\n",
              "      <td>No</td>\n",
              "      <td>Don't know</td>\n",
              "      <td>Don't know</td>\n",
              "      <td>Don't know</td>\n",
              "      <td>Don't know</td>\n",
              "      <td>Maybe</td>\n",
              "      <td>No</td>\n",
              "      <td>No</td>\n",
              "      <td>No</td>\n",
              "      <td>No</td>\n",
              "      <td>No</td>\n",
              "      <td>Don't know</td>\n",
              "      <td>No</td>\n",
              "    </tr>\n",
              "    <tr>\n",
              "      <th>2</th>\n",
              "      <td>32</td>\n",
              "      <td>Male</td>\n",
              "      <td>Canada</td>\n",
              "      <td>NaN</td>\n",
              "      <td>NaN</td>\n",
              "      <td>No</td>\n",
              "      <td>No</td>\n",
              "      <td>Rarely</td>\n",
              "      <td>6-25</td>\n",
              "      <td>No</td>\n",
              "      <td>Yes</td>\n",
              "      <td>No</td>\n",
              "      <td>No</td>\n",
              "      <td>No</td>\n",
              "      <td>No</td>\n",
              "      <td>Don't know</td>\n",
              "      <td>Somewhat difficult</td>\n",
              "      <td>No</td>\n",
              "      <td>No</td>\n",
              "      <td>Yes</td>\n",
              "      <td>Yes</td>\n",
              "      <td>Yes</td>\n",
              "      <td>Yes</td>\n",
              "      <td>No</td>\n",
              "      <td>No</td>\n",
              "    </tr>\n",
              "    <tr>\n",
              "      <th>3</th>\n",
              "      <td>31</td>\n",
              "      <td>Male</td>\n",
              "      <td>United Kingdom</td>\n",
              "      <td>NaN</td>\n",
              "      <td>NaN</td>\n",
              "      <td>Yes</td>\n",
              "      <td>Yes</td>\n",
              "      <td>Often</td>\n",
              "      <td>26-100</td>\n",
              "      <td>No</td>\n",
              "      <td>Yes</td>\n",
              "      <td>No</td>\n",
              "      <td>Yes</td>\n",
              "      <td>No</td>\n",
              "      <td>No</td>\n",
              "      <td>No</td>\n",
              "      <td>Somewhat difficult</td>\n",
              "      <td>Yes</td>\n",
              "      <td>Yes</td>\n",
              "      <td>Some of them</td>\n",
              "      <td>No</td>\n",
              "      <td>Maybe</td>\n",
              "      <td>Maybe</td>\n",
              "      <td>No</td>\n",
              "      <td>Yes</td>\n",
              "    </tr>\n",
              "    <tr>\n",
              "      <th>4</th>\n",
              "      <td>31</td>\n",
              "      <td>Male</td>\n",
              "      <td>United States</td>\n",
              "      <td>TX</td>\n",
              "      <td>NaN</td>\n",
              "      <td>No</td>\n",
              "      <td>No</td>\n",
              "      <td>Never</td>\n",
              "      <td>100-500</td>\n",
              "      <td>Yes</td>\n",
              "      <td>Yes</td>\n",
              "      <td>Yes</td>\n",
              "      <td>No</td>\n",
              "      <td>Don't know</td>\n",
              "      <td>Don't know</td>\n",
              "      <td>Don't know</td>\n",
              "      <td>Don't know</td>\n",
              "      <td>No</td>\n",
              "      <td>No</td>\n",
              "      <td>Some of them</td>\n",
              "      <td>Yes</td>\n",
              "      <td>Yes</td>\n",
              "      <td>Yes</td>\n",
              "      <td>Don't know</td>\n",
              "      <td>No</td>\n",
              "    </tr>\n",
              "  </tbody>\n",
              "</table>\n",
              "</div>"
            ],
            "text/plain": [
              "   age  gender         country state self_employed family_history treatment  \\\n",
              "0   37  Female   United States    IL           NaN             No       Yes   \n",
              "1   44       M   United States    IN           NaN             No        No   \n",
              "2   32    Male          Canada   NaN           NaN             No        No   \n",
              "3   31    Male  United Kingdom   NaN           NaN            Yes       Yes   \n",
              "4   31    Male   United States    TX           NaN             No        No   \n",
              "\n",
              "  work_interfere    no_employees remote_work tech_company    benefits  \\\n",
              "0          Often            6-25          No          Yes         Yes   \n",
              "1         Rarely  More than 1000          No           No  Don't know   \n",
              "2         Rarely            6-25          No          Yes          No   \n",
              "3          Often          26-100          No          Yes          No   \n",
              "4          Never         100-500         Yes          Yes         Yes   \n",
              "\n",
              "  care_options wellness_program   seek_help   anonymity               leave  \\\n",
              "0     Not sure               No         Yes         Yes       Somewhat easy   \n",
              "1           No       Don't know  Don't know  Don't know          Don't know   \n",
              "2           No               No          No  Don't know  Somewhat difficult   \n",
              "3          Yes               No          No          No  Somewhat difficult   \n",
              "4           No       Don't know  Don't know  Don't know          Don't know   \n",
              "\n",
              "  mental_health_consequence phys_health_consequence     coworkers supervisor  \\\n",
              "0                        No                      No  Some of them        Yes   \n",
              "1                     Maybe                      No            No         No   \n",
              "2                        No                      No           Yes        Yes   \n",
              "3                       Yes                     Yes  Some of them         No   \n",
              "4                        No                      No  Some of them        Yes   \n",
              "\n",
              "  mental_health_interview phys_health_interview mental_vs_physical  \\\n",
              "0                      No                 Maybe                Yes   \n",
              "1                      No                    No         Don't know   \n",
              "2                     Yes                   Yes                 No   \n",
              "3                   Maybe                 Maybe                 No   \n",
              "4                     Yes                   Yes         Don't know   \n",
              "\n",
              "  obs_consequence  \n",
              "0              No  \n",
              "1              No  \n",
              "2              No  \n",
              "3             Yes  \n",
              "4              No  "
            ]
          },
          "metadata": {
            "tags": []
          },
          "execution_count": 64
        }
      ]
    },
    {
      "cell_type": "markdown",
      "metadata": {
        "_cell_guid": "0d28fd88-b287-4bbb-96eb-4d039c8bd946",
        "_uuid": "c065a63052f6ed981ffaa11e097ea89394d2ffab",
        "id": "hlg9u1fJDgwX"
      },
      "source": [
        "<a id=section404></a> \n",
        "### 4.4. Outliers Treatment\n",
        "\n",
        "For the purpose of this analysis, simply replace any __out-of-range age values with \"NaN\"__, rather than deleting the rows from the data set.  In a more detailed analysis it could be worth looking more closely at the rows with out-of-range ages and deciding whether it makes more sense to remove them. \n",
        "\n",
        "As we recall the age column had __5 outliers__, _3 below zero_ and _2 above 123_. Let us see how to handle them.\n"
      ]
    },
    {
      "cell_type": "code",
      "metadata": {
        "colab": {
          "base_uri": "https://localhost:8080/"
        },
        "id": "usvEbmpiDgwX",
        "outputId": "70f67237-d13b-4cc8-cd3d-4d87dec92002"
      },
      "source": [
        "def clean_age(age):                                                     # Create a new column \"age_clean\" that replaces out-of-range ages with \"NaN\"\n",
        "    if age>=0 and age<=123:                                             # The oldest living person on record lived to be 122 years, 164 days (Jeanne Calment, 1875-1997)\n",
        "        return age\n",
        "    else:\n",
        "        return np.nan\n",
        "mh['age_clean'] = mh['age'].apply(clean_age)\n",
        "\n",
        "print(\"'Age'\")                                                          # Check out the new column and make sure it looks right\n",
        "print(\"Minimum value: \", mh[\"age_clean\"].min())\n",
        "print(\"Maximum value: \", mh[\"age_clean\"].max())\n",
        "print(\"How many values are NaN?: \", pd.isnull(mh['age_clean']).sum())\n",
        "print(\"Frequency table for age_clean:\")\n",
        "mh[\"age_clean\"].value_counts().sort_index(0)"
      ],
      "execution_count": null,
      "outputs": [
        {
          "output_type": "stream",
          "text": [
            "'Age'\n",
            "Minimum value:  5.0\n",
            "Maximum value:  72.0\n",
            "How many values are NaN?:  5\n",
            "Frequency table for age_clean:\n"
          ],
          "name": "stdout"
        },
        {
          "output_type": "execute_result",
          "data": {
            "text/plain": [
              "5.0      1\n",
              "8.0      1\n",
              "11.0     1\n",
              "18.0     7\n",
              "19.0     9\n",
              "20.0     6\n",
              "21.0    16\n",
              "22.0    21\n",
              "23.0    51\n",
              "24.0    46\n",
              "25.0    61\n",
              "26.0    75\n",
              "27.0    71\n",
              "28.0    68\n",
              "29.0    85\n",
              "30.0    63\n",
              "31.0    67\n",
              "32.0    82\n",
              "33.0    70\n",
              "34.0    65\n",
              "35.0    55\n",
              "36.0    37\n",
              "37.0    43\n",
              "38.0    39\n",
              "39.0    33\n",
              "40.0    33\n",
              "41.0    21\n",
              "42.0    20\n",
              "43.0    28\n",
              "44.0    11\n",
              "45.0    12\n",
              "46.0    12\n",
              "47.0     2\n",
              "48.0     6\n",
              "49.0     4\n",
              "50.0     6\n",
              "51.0     5\n",
              "53.0     1\n",
              "54.0     3\n",
              "55.0     3\n",
              "56.0     4\n",
              "57.0     3\n",
              "58.0     1\n",
              "60.0     2\n",
              "61.0     1\n",
              "62.0     1\n",
              "65.0     1\n",
              "72.0     1\n",
              "Name: age_clean, dtype: int64"
            ]
          },
          "metadata": {
            "tags": []
          },
          "execution_count": 65
        }
      ]
    },
    {
      "cell_type": "code",
      "metadata": {
        "id": "GiPIPZexDgwX"
      },
      "source": [
        "mh['age_Group'] = pd.cut(mh['age_clean'].dropna(),\n",
        "                         [0,18,25,35,45,99],\n",
        "                         labels=['<18','18-24','25-34','35-44','45+'], include_lowest=True)"
      ],
      "execution_count": null,
      "outputs": []
    },
    {
      "cell_type": "markdown",
      "metadata": {
        "id": "v8sc74-fDgwY"
      },
      "source": [
        "#### Question that comes up:\n",
        "- How does __age__ relate to various behaviors and/or their awareness of their employer's attitude toward mental health?(__Hint__:Based on age group)"
      ]
    },
    {
      "cell_type": "code",
      "metadata": {
        "colab": {
          "base_uri": "https://localhost:8080/",
          "height": 427
        },
        "id": "xlBSPX10DgwY",
        "outputId": "04192ea5-7e7d-46df-df3c-6f27d09fdf38"
      },
      "source": [
        "fig,ax =plt.subplots(figsize=(8,6))\n",
        "sns.countplot(data = mh,x = 'age_Group', hue='treatment')\n",
        "plt.title('Age Group vs Treatment')"
      ],
      "execution_count": null,
      "outputs": [
        {
          "output_type": "execute_result",
          "data": {
            "text/plain": [
              "Text(0.5, 1.0, 'Age Group vs Treatment')"
            ]
          },
          "metadata": {
            "tags": []
          },
          "execution_count": 67
        },
        {
          "output_type": "display_data",
          "data": {
            "image/png": "[encoded data removed]",
            "text/plain": [
              "<Figure size 576x432 with 1 Axes>"
            ]
          },
          "metadata": {
            "tags": [],
            "needs_background": "light"
          }
        }
      ]
    },
    {
      "cell_type": "markdown",
      "metadata": {
        "id": "Q5WLxIXYDgwY"
      },
      "source": [
        "#### Observations:\n",
        "It can be infered from the above plot that the __Age_group 2(18-24) is mildly concious, 4(35-44) is heavily concious and 3 (25-34)__ are lesser compared to previous about their mental issue and are up for treatment.\n"
      ]
    },
    {
      "cell_type": "markdown",
      "metadata": {
        "_cell_guid": "bc3355ad-ee17-4998-a39c-eb44e0a10212",
        "_uuid": "afad35eadfc46f289a34e827a7c329ffbc881404",
        "id": "YPysLKAEDgwZ"
      },
      "source": [
        "#### View the age distribution of the sample"
      ]
    },
    {
      "cell_type": "code",
      "metadata": {
        "_cell_guid": "00f89c92-45a4-481f-81f5-e9b495d70f09",
        "_uuid": "29a04e6dc5b8628d1c722f4d945e9acd064f20d8",
        "colab": {
          "base_uri": "https://localhost:8080/",
          "height": 394
        },
        "id": "zr4SAdv4DgwZ",
        "outputId": "d037c768-fca5-4846-d91c-8467f7d741d7"
      },
      "source": [
        "fig,ax =plt.subplots(figsize=(8,6))\n",
        "sns.set(color_codes=True)                                                # Plot a histogram of the respondents' ages (remove any NaN values)\n",
        "sns.set_palette(sns.color_palette(\"muted\"))\n",
        "\n",
        "sns.distplot(mh[\"age_clean\"].dropna());"
      ],
      "execution_count": null,
      "outputs": [
        {
          "output_type": "display_data",
          "data": {
            "image/png": "[encoded data removed]",
            "text/plain": [
              "<Figure size 576x432 with 1 Axes>"
            ]
          },
          "metadata": {
            "tags": [],
            "needs_background": "light"
          }
        }
      ]
    },
    {
      "cell_type": "markdown",
      "metadata": {
        "id": "GsxjvHpBDgwZ"
      },
      "source": [
        "#### Observations\n",
        "- Peak between _mid-20s to about mid-30s_.  "
      ]
    },
    {
      "cell_type": "markdown",
      "metadata": {
        "id": "OMkvxAdwDgwa"
      },
      "source": [
        "<a id=section405></a>\n",
        "### 4.5. Handling NaN data in the categorical columns\n",
        "- There are three variables with many missing values. None of them points to a need to \"fill in\" the missing responses or delete the rows. More detail:\n",
        " - __state__:  the missing values are likely to occur in the instances where the country is not \"United States\". \n",
        " - __work_intefere__:  the missing values indicate that the respondent skipped the question because it does not apply to them, which is important information. We can infer that missing responses means the respondent is not experiencing a mental illness at the moment.\n",
        " - __self_employed__: there are 18 missing values and it indicates the respondent may have left the column, as this column so it hold much of a importance to analysis, So it's better to impute with values in order to make the data normal."
      ]
    },
    {
      "cell_type": "code",
      "metadata": {
        "colab": {
          "base_uri": "https://localhost:8080/"
        },
        "id": "WLBhGcMeDgwa",
        "outputId": "b4c8740a-96e1-4f18-b24d-7529b97702db"
      },
      "source": [
        "#There are only 0.014% of self employed so let's replace NaN with mode()\n",
        "#Replace \"NaN\" string from defaultString\n",
        "mh['self_employed'] = mh['self_employed'].fillna(mh['self_employed'].mode()[0])\n",
        "print(mh['self_employed'].unique())"
      ],
      "execution_count": null,
      "outputs": [
        {
          "output_type": "stream",
          "text": [
            "['No' 'Yes']\n"
          ],
          "name": "stdout"
        }
      ]
    },
    {
      "cell_type": "code",
      "metadata": {
        "colab": {
          "base_uri": "https://localhost:8080/"
        },
        "id": "lpus56KwDgwa",
        "outputId": "b8320068-9f6c-460d-9a7f-807c842492f8"
      },
      "source": [
        "#There are only 0.20% of self work_interfere so let's replace NaN with mode()\n",
        "#Replace \"NaN\" string from defaultString\n",
        "\n",
        "mh['work_interfere'] = mh['work_interfere'].fillna(mh['work_interfere'].mode()[0])\n",
        "print(mh['work_interfere'].unique())"
      ],
      "execution_count": null,
      "outputs": [
        {
          "output_type": "stream",
          "text": [
            "['Often' 'Rarely' 'Never' 'Sometimes']\n"
          ],
          "name": "stdout"
        }
      ]
    },
    {
      "cell_type": "markdown",
      "metadata": {
        "_cell_guid": "88cf8b77-86e5-4234-9e2f-a807dfd43668",
        "_uuid": "1934cdc20c051802b8cb74eea3b52915e93dd810",
        "id": "r16trng1Dgwb"
      },
      "source": [
        "<a id=section406></a> \n",
        "### 4.6. Grouping\n",
        "#### Gender Distribution\n",
        "\n",
        "Consolidate the gender variable into the following categories, given the _nature_ and _quantities_ of the __open-ended responses__.\n",
        "- Male\n",
        "- Female\n",
        "- Trans\n"
      ]
    },
    {
      "cell_type": "code",
      "metadata": {
        "colab": {
          "base_uri": "https://localhost:8080/"
        },
        "id": "oGnz8vsjDgwb",
        "outputId": "33c62f87-b776-43e3-aa38-e443f96148dd"
      },
      "source": [
        "#clean 'Gender'\n",
        "#Slower case all columm's elements\n",
        "gender = mh['gender'].str.lower()\n",
        "#print(gender)\n",
        "\n",
        "#Select unique elements\n",
        "gender = mh['gender'].unique()\n",
        "\n",
        "#Made gender groups\n",
        "male_str = [\"male\", \"m\", \"male-ish\", \"maile\", \"mal\", \"male (cis)\", \"make\", \"male \", \"man\",\"msle\", \"mail\", \"malr\",\"cis man\", \"Cis Male\", \"cis male\"]\n",
        "trans_str = [\"trans-female\", \"something kinda male?\", \"queer/she/they\", \"non-binary\",\"nah\", \"all\", \"enby\", \"fluid\", \"genderqueer\", \"androgyne\", \"agender\", \"male leaning androgynous\", \"guy (-ish) ^_^\", \"trans woman\", \"neuter\", \"female (trans)\", \"queer\", \"ostensibly male, unsure what that really means\"]           \n",
        "female_str = [\"cis female\", \"f\", \"female\", \"woman\",  \"femake\", \"female \",\"cis-female/femme\", \"female (cis)\", \"femail\"]\n",
        "\n",
        "for (row, col) in mh.iterrows():\n",
        "\n",
        "    if str.lower(col.gender) in male_str:\n",
        "        mh['gender'].replace(to_replace=col.gender, value='male', inplace=True)\n",
        "\n",
        "    if str.lower(col.gender) in female_str:\n",
        "        mh['gender'].replace(to_replace=col.gender, value='female', inplace=True)\n",
        "\n",
        "    if str.lower(col.gender) in trans_str:\n",
        "        mh['gender'].replace(to_replace=col.gender, value='trans', inplace=True)\n",
        "\n",
        "#Get rid of bullshit\n",
        "stk_list = ['A little about you', 'p']\n",
        "mh = mh[~mh['gender'].isin(stk_list)]\n",
        "\n",
        "print(mh['gender'].unique())"
      ],
      "execution_count": null,
      "outputs": [
        {
          "output_type": "stream",
          "text": [
            "['female' 'male' 'trans']\n"
          ],
          "name": "stdout"
        }
      ]
    },
    {
      "cell_type": "markdown",
      "metadata": {
        "id": "b0eMP53SDgwb"
      },
      "source": [
        "### Gender distribution of the sample"
      ]
    },
    {
      "cell_type": "code",
      "metadata": {
        "colab": {
          "base_uri": "https://localhost:8080/",
          "height": 359
        },
        "id": "-dePBI4_Dgwb",
        "outputId": "6464848b-7724-4355-9b88-0c08a10685c2"
      },
      "source": [
        "plt.figure(figsize=(10,5))\n",
        "sns.countplot('gender',data = mh, order = mh['gender'].value_counts().index,palette=\"PuBuGn_d\")\n",
        "plt.title(\"Gender Counts\",fontsize=18,fontweight=\"bold\")\n",
        "plt.xlabel('Gender')\n",
        "plt.ylabel('Frequency')\n",
        "plt.show()"
      ],
      "execution_count": null,
      "outputs": [
        {
          "output_type": "display_data",
          "data": {
            "image/png": "[encoded data removed]",
            "text/plain": [
              "<Figure size 720x360 with 1 Axes>"
            ]
          },
          "metadata": {
            "tags": []
          }
        }
      ]
    },
    {
      "cell_type": "code",
      "metadata": {
        "id": "m22VVfQzTDg0"
      },
      "source": [
        ""
      ],
      "execution_count": null,
      "outputs": []
    },
    {
      "cell_type": "markdown",
      "metadata": {
        "_cell_guid": "41e9f51b-525c-4fde-a134-18102b51d858",
        "_uuid": "045d0053fa2167d50553d877b0cfc1a6757bf767",
        "id": "HLDxmwUeDgwc"
      },
      "source": [
        "#### Question that comes up:\n",
        "- How does __gender__ relate to various behaviors and/or their awareness of their employer's attitude toward mental health?"
      ]
    },
    {
      "cell_type": "code",
      "metadata": {
        "colab": {
          "base_uri": "https://localhost:8080/",
          "height": 390
        },
        "id": "yp9lSWzIDgwc",
        "outputId": "8da35dc1-1d9e-4cac-89b9-44257a17c1a3"
      },
      "source": [
        "f,ax = plt.subplots(1,3,figsize=(22,6))\n",
        "mh['treatment'][mh['gender'] == 'male'].value_counts().plot.pie(explode=[0,0.1],autopct='%1.1f%%',ax=ax[0],shadow=True)\n",
        "mh['treatment'][mh['gender'] == 'female'].value_counts().plot.pie(explode=[0,0.1],autopct='%1.1f%%',ax=ax[1],shadow=True)\n",
        "mh['treatment'][mh['gender'] == 'trans'].value_counts().plot.pie(explode=[0,0.1],autopct='%1.1f%%',ax=ax[2],shadow=True)\n",
        "ax[0].set_title('treatment (male)')\n",
        "ax[1].set_title('treatment (female)')\n",
        "ax[2].set_title('treatment (trans)')"
      ],
      "execution_count": null,
      "outputs": [
        {
          "output_type": "execute_result",
          "data": {
            "text/plain": [
              "Text(0.5, 1.0, 'treatment (trans)')"
            ]
          },
          "metadata": {
            "tags": []
          },
          "execution_count": 73
        },
        {
          "output_type": "display_data",
          "data": {
            "image/png": "[encoded data removed]",
            "text/plain": [
              "<Figure size 1584x432 with 3 Axes>"
            ]
          },
          "metadata": {
            "tags": []
          }
        }
      ]
    },
    {
      "cell_type": "markdown",
      "metadata": {
        "id": "7Jj5PUJZDgwd"
      },
      "source": [
        "#### Observations\n",
        "\n",
        "__Female__ and __trans__ is more affected than males in ratio terms ."
      ]
    },
    {
      "cell_type": "markdown",
      "metadata": {
        "id": "YYkWq5P5Dgwd"
      },
      "source": [
        "#### Pandas profiling post data manipulation"
      ]
    },
    {
      "cell_type": "code",
      "metadata": {
        "id": "5iODpIpLDgwd"
      },
      "source": [
        "#post_profile = pandas_profiling.ProfileReport(mh)\n",
        "#post_profile.to_file(outputfile=\"post_profiling.html\")"
      ],
      "execution_count": null,
      "outputs": []
    },
    {
      "cell_type": "markdown",
      "metadata": {
        "id": "1cNkvvcXDgwd"
      },
      "source": [
        "#### Create a copy of \"mh\" dataframe for Label encoding"
      ]
    },
    {
      "cell_type": "code",
      "metadata": {
        "id": "GYdjKnyWDgwe"
      },
      "source": [
        "mh_new = mh.copy(deep=True)                                                       # creating new dataframe to make any datatype changes over it and keep the original dataframe as it is.."
      ],
      "execution_count": null,
      "outputs": []
    },
    {
      "cell_type": "markdown",
      "metadata": {
        "id": "bHmxSf9JDgwe"
      },
      "source": [
        "#### Dealing with Categorical Variables"
      ]
    },
    {
      "cell_type": "code",
      "metadata": {
        "id": "nePK9JWpDgwe"
      },
      "source": [
        "from sklearn.preprocessing import LabelEncoder                                    # Label encoder is used to transform non-numerical labels to numerical labels.\n",
        "number = LabelEncoder()                                                           # Here as our data set consists only of categorical values except age\n",
        "for i in mh_new.columns:                                                          # in order to find the correlation between variables, we do Label encoding \n",
        "    mh_new[i] = number.fit_transform(mh_new[i].astype('str'))"
      ],
      "execution_count": null,
      "outputs": []
    },
    {
      "cell_type": "markdown",
      "metadata": {
        "id": "Gc5LttrLDgwf"
      },
      "source": [
        "<a id=section406><a/>"
      ]
    },
    {
      "cell_type": "markdown",
      "metadata": {
        "id": "LN9jRZ2JDgwf"
      },
      "source": [
        "#### Correlation of Features"
      ]
    },
    {
      "cell_type": "code",
      "metadata": {
        "colab": {
          "base_uri": "https://localhost:8080/"
        },
        "id": "E6N2AWzpDgwf",
        "outputId": "1d285f5c-8e31-4c10-dd18-ac42f6e0f1b0"
      },
      "source": [
        "corr=mh_new.corr()['treatment']\n",
        "corr[np.argsort(corr,axis=0)[::-1]]"
      ],
      "execution_count": null,
      "outputs": [
        {
          "output_type": "execute_result",
          "data": {
            "text/plain": [
              "treatment                    1.000000\n",
              "family_history               0.376714\n",
              "care_options                 0.235135\n",
              "benefits                     0.224767\n",
              "obs_consequence              0.154008\n",
              "anonymity                    0.140905\n",
              "work_interfere               0.136273\n",
              "mental_health_interview      0.094859\n",
              "wellness_program             0.092346\n",
              "seek_help                    0.087700\n",
              "country                      0.080096\n",
              "age_clean                    0.076312\n",
              "age                          0.074897\n",
              "coworkers                    0.066022\n",
              "mental_vs_physical           0.060552\n",
              "leave                        0.059034\n",
              "age_Group                    0.051030\n",
              "phys_health_interview        0.049234\n",
              "mental_health_consequence    0.027943\n",
              "remote_work                  0.024593\n",
              "self_employed                0.016264\n",
              "phys_health_consequence     -0.012776\n",
              "tech_company                -0.032295\n",
              "supervisor                  -0.037944\n",
              "no_employees                -0.047733\n",
              "state                       -0.099801\n",
              "gender                      -0.149882\n",
              "Name: treatment, dtype: float64"
            ]
          },
          "metadata": {
            "tags": []
          },
          "execution_count": 77
        }
      ]
    },
    {
      "cell_type": "code",
      "metadata": {
        "colab": {
          "base_uri": "https://localhost:8080/",
          "height": 599
        },
        "id": "mI8lHEqaDgwg",
        "outputId": "7abf780f-3dd9-415f-cac9-d3943a8bab42"
      },
      "source": [
        "features_correlation = mh_new.corr()\n",
        "plt.figure(figsize=(8,8))\n",
        "sns.heatmap(features_correlation,vmax=1,square=True,annot=False,cmap='Blues')\n",
        "plt.show()"
      ],
      "execution_count": null,
      "outputs": [
        {
          "output_type": "display_data",
          "data": {
            "image/png": "[encoded data removed]",
            "text/plain": [
              "<Figure size 576x576 with 2 Axes>"
            ]
          },
          "metadata": {
            "tags": []
          }
        }
      ]
    },
    {
      "cell_type": "markdown",
      "metadata": {
        "id": "AMC3al_RDgwh"
      },
      "source": [
        "#### Observation\n",
        "\n",
        "__benefits__,__care_options__,__wellness_program__,__seek_help__ and __anonymity__ are correalated with __each other__ and same with __coworkers and supervisor__"
      ]
    },
    {
      "cell_type": "markdown",
      "metadata": {
        "id": "WThtHex5Dgwh"
      },
      "source": [
        "<a id=section5><a/>"
      ]
    },
    {
      "cell_type": "markdown",
      "metadata": {
        "id": "Z6eFMLI7Dgwi"
      },
      "source": [
        "### 5. Identify patterns in the data"
      ]
    },
    {
      "cell_type": "markdown",
      "metadata": {
        "id": "8Ka4qjj_Dgwi"
      },
      "source": [
        "<a id=section501><a/>"
      ]
    },
    {
      "cell_type": "markdown",
      "metadata": {
        "id": "yu7BzH2-Dgwi"
      },
      "source": [
        "### 5.1. Treatment v. work_interfere"
      ]
    },
    {
      "cell_type": "code",
      "metadata": {
        "colab": {
          "base_uri": "https://localhost:8080/",
          "height": 337
        },
        "id": "hZbx-gELDgwj",
        "outputId": "562ee512-28e2-4940-ff56-c46ecfa7b9fd"
      },
      "source": [
        "f,ax = plt.subplots(1,4,figsize=(22,7))\n",
        "mh['treatment'][mh['work_interfere'] == 'Often'].value_counts().plot.pie(explode=[0,0.2],autopct='%1.1f%%',ax=ax[0],shadow=True)\n",
        "mh['treatment'][mh['work_interfere'] == 'Rarely'].value_counts().plot.pie(explode=[0,0.2],autopct='%1.1f%%',ax=ax[1],shadow=True)\n",
        "mh['treatment'][mh['work_interfere'] == 'Never'].value_counts().plot.pie(explode=[0,0.2],autopct='%1.1f%%',ax=ax[2],shadow=True)\n",
        "mh['treatment'][mh['work_interfere'] == 'Sometimes'].value_counts().plot.pie(explode=[0,0.2],autopct='%1.1f%%',ax=ax[3],shadow=True)\n",
        "ax[0].set_title('work_interfere (Often)')\n",
        "ax[1].set_title('work_interfere (Rarely)')\n",
        "ax[2].set_title('work_interfere (Never)')\n",
        "ax[3].set_title('work_interfere (Sometimes)')"
      ],
      "execution_count": null,
      "outputs": [
        {
          "output_type": "execute_result",
          "data": {
            "text/plain": [
              "Text(0.5, 1.0, 'work_interfere (Sometimes)')"
            ]
          },
          "metadata": {
            "tags": []
          },
          "execution_count": 79
        },
        {
          "output_type": "display_data",
          "data": {
            "image/png": "[encoded data removed]",
            "text/plain": [
              "<Figure size 1584x504 with 4 Axes>"
            ]
          },
          "metadata": {
            "tags": []
          }
        }
      ]
    },
    {
      "cell_type": "markdown",
      "metadata": {
        "id": "xpVky0uUDgwj"
      },
      "source": [
        "#### Observation\n",
        "\n",
        "So the employees who are __\"Often\"__ and __\"Rarely\"__ interferred during their work are more likely to have mental health issue and they tend to go for treatment."
      ]
    },
    {
      "cell_type": "code",
      "metadata": {
        "_cell_guid": "18b869e6-9c95-46b5-bca1-30e6af9d0b9b",
        "_uuid": "3e541cc26d15d5f3a76d631d2ff7f2323d2506c1",
        "colab": {
          "base_uri": "https://localhost:8080/"
        },
        "id": "PDnRm2dkDgwj",
        "outputId": "7e8ea098-9100-42d7-b758-0c4e97eac70a"
      },
      "source": [
        "df = pd.DataFrame({'treatment': mh['treatment'], 'work_interfere': mh['work_interfere']}, dtype='category')         # Create a new dataframe with the two columns and assign numbers in place of their categories\n",
        "df_num = df.apply(lambda x: x.cat.codes)\n",
        "\n",
        "print(\"Pearson:\", df_num.corr())                                                                                    # Run a correlation calculation \n",
        "print(\"\")"
      ],
      "execution_count": null,
      "outputs": [
        {
          "output_type": "stream",
          "text": [
            "Pearson:                 treatment  work_interfere\n",
            "treatment        1.000000        0.136273\n",
            "work_interfere   0.136273        1.000000\n",
            "\n"
          ],
          "name": "stdout"
        }
      ]
    },
    {
      "cell_type": "code",
      "metadata": {
        "colab": {
          "base_uri": "https://localhost:8080/",
          "height": 265
        },
        "id": "iVog1MTNDgwk",
        "outputId": "8c2d8151-485c-4cdc-d512-b2f318c36f2a"
      },
      "source": [
        "features = df_num.corr()\n",
        "plt.figure(figsize=(4,4))\n",
        "sns.heatmap(features,vmax=1,square=True,annot=False,cmap='Blues')\n",
        "plt.show()"
      ],
      "execution_count": null,
      "outputs": [
        {
          "output_type": "display_data",
          "data": {
            "image/png": "[encoded data removed]",
            "text/plain": [
              "<Figure size 288x288 with 2 Axes>"
            ]
          },
          "metadata": {
            "tags": []
          }
        }
      ]
    },
    {
      "cell_type": "markdown",
      "metadata": {
        "id": "FcW4CcqEDgwk"
      },
      "source": [
        "<a id=section502><a/>"
      ]
    },
    {
      "cell_type": "markdown",
      "metadata": {
        "_cell_guid": "46323ae3-2ffb-4270-bf4d-7348a8fbcd7f",
        "_uuid": "29ed88e1c70ad9b8574285ba7b47b65e88fc8d68",
        "id": "CLOqB3iPDgwl"
      },
      "source": [
        "### 5.2. Age Category v. seeking treatment\n",
        "\n",
        "Whether an employee is seeking treatment for a mental health condition appears to be correlated with their knowledge of their employer's mental health benefits.\n"
      ]
    },
    {
      "cell_type": "code",
      "metadata": {
        "colab": {
          "base_uri": "https://localhost:8080/",
          "height": 539
        },
        "id": "sXGwMq1IDgwl",
        "outputId": "5a7b4f02-ee7c-415d-ec96-326b9584264b"
      },
      "source": [
        "plt.figure(figsize=(8,8))\n",
        "ax = sns.violinplot(x=\"treatment\", y=\"age_clean\", palette=\"gnuplot\", data=mh)\n",
        "plt.xlabel(\"If they go for treatment or not?\")\n",
        "plt.ylabel(\"AgeGroup\")\n",
        "plt.title(\"Age Category Vs. Seeking Treatment\", fontsize=18, fontweight = \"bold\")"
      ],
      "execution_count": null,
      "outputs": [
        {
          "output_type": "execute_result",
          "data": {
            "text/plain": [
              "Text(0.5, 1.0, 'Age Category Vs. Seeking Treatment')"
            ]
          },
          "metadata": {
            "tags": []
          },
          "execution_count": 82
        },
        {
          "output_type": "display_data",
          "data": {
            "image/png": "[encoded data removed]",
            "text/plain": [
              "<Figure size 576x576 with 1 Axes>"
            ]
          },
          "metadata": {
            "tags": []
          }
        }
      ]
    },
    {
      "cell_type": "markdown",
      "metadata": {
        "id": "wqzducSIDgwl"
      },
      "source": [
        "### Observation\n",
        "What inferences are you getting from the above violin plot? <br/>\n",
        "Nothing much, Right? <br/>\n",
        "Therefore, what type of plot you have to use depends on the data you are working on. You can't use every plot everywhere. Every plot has its own utility and its best to keep in mind the data on which you are working on and check which chart is feasible as per your requirement nad visualization.\n",
        "\n"
      ]
    },
    {
      "cell_type": "markdown",
      "metadata": {
        "id": "VzoioXtYDgwm"
      },
      "source": [
        "<a id=section503><a/>"
      ]
    },
    {
      "cell_type": "markdown",
      "metadata": {
        "_cell_guid": "069f4df2-a323-40a8-9407-9f4dfe1225cf",
        "_uuid": "fa616aa9c6cd281e74ebe7749b445a9f503121cf",
        "id": "5TvG74DkDgwm"
      },
      "source": [
        "### 5.3. Family History v. Seeking Treatment\n",
        "\n",
        "There appears to be a pretty clear correlation between these two variables, too."
      ]
    },
    {
      "cell_type": "code",
      "metadata": {
        "colab": {
          "base_uri": "https://localhost:8080/",
          "height": 359
        },
        "id": "gBXL2ubWDgwm",
        "outputId": "7ad4104c-87c3-41b7-b43a-8f49e36d1e42"
      },
      "source": [
        "plt.figure(figsize=(10,5))\n",
        "sns.countplot(y=\"family_history\", hue=\"treatment\", data=mh)\n",
        "plt.title(\"Does family history effects mental health ? \",fontsize=18,fontweight=\"bold\")\n",
        "plt.xlabel(\"Do they go mental health treatment?\")\n",
        "plt.ylabel(\"Family History\")\n",
        "plt.show()"
      ],
      "execution_count": null,
      "outputs": [
        {
          "output_type": "display_data",
          "data": {
            "image/png": "[encoded data removed]",
            "text/plain": [
              "<Figure size 720x360 with 1 Axes>"
            ]
          },
          "metadata": {
            "tags": []
          }
        }
      ]
    },
    {
      "cell_type": "markdown",
      "metadata": {
        "id": "ZC3pUFqkDgwn"
      },
      "source": [
        "### Observation\n",
        "\n",
        "The employees _having_ Family History are very much likely to go for treatment."
      ]
    },
    {
      "cell_type": "markdown",
      "metadata": {
        "id": "9YXoZqhXDgwn"
      },
      "source": [
        "<a id=section504><a/>"
      ]
    },
    {
      "cell_type": "markdown",
      "metadata": {
        "id": "SCxFAgIwDgwn"
      },
      "source": [
        "<a id=section505><a/>"
      ]
    },
    {
      "cell_type": "markdown",
      "metadata": {
        "id": "eYvjoLobDgwo"
      },
      "source": [
        "<a id=section505><a/>"
      ]
    },
    {
      "cell_type": "markdown",
      "metadata": {
        "id": "R4l8gNjCDgwo"
      },
      "source": [
        "### 5.4. Employee count of Comapnies"
      ]
    },
    {
      "cell_type": "code",
      "metadata": {
        "colab": {
          "base_uri": "https://localhost:8080/",
          "height": 360
        },
        "id": "N0tiHLc4Dgwo",
        "outputId": "5d9174d7-92fd-4388-8602-979bb8621973"
      },
      "source": [
        "plt.figure(figsize=(10,5))\n",
        "sns.countplot('no_employees',data = mh, order = mh['no_employees'].value_counts().index,palette=\"gnuplot\")\n",
        "plt.title(\"Employee Count of Companies\",fontsize=20,fontweight=\"bold\")\n",
        "plt.ylabel(\"Frequency\")\n",
        "plt.xlabel(\"Company Size\")\n",
        "plt.show()"
      ],
      "execution_count": null,
      "outputs": [
        {
          "output_type": "display_data",
          "data": {
            "image/png": "[encoded data removed]",
            "text/plain": [
              "<Figure size 720x360 with 1 Axes>"
            ]
          },
          "metadata": {
            "tags": []
          }
        }
      ]
    },
    {
      "cell_type": "markdown",
      "metadata": {
        "id": "hdin2S6CDgwo"
      },
      "source": [
        "### Observation\n",
        "Company Size of _6-25_ has the __highest frequency__ of employees and the one having employee in the range of _500-1000_ has the __least frequency__ among the data set."
      ]
    },
    {
      "cell_type": "code",
      "metadata": {
        "colab": {
          "base_uri": "https://localhost:8080/",
          "height": 427
        },
        "id": "lcloK7u8Dgwp",
        "outputId": "6665f250-ec40-456c-ebeb-8e79315a71d1"
      },
      "source": [
        "fig,ax  =plt.subplots(figsize=(8,6))\n",
        "sns.countplot(mh['work_interfere'].dropna(), hue = mh['treatment'], data = mh, ax=ax)\n",
        "plt.title('Work interfere Distribution')\n",
        "plt.ylabel('Count')"
      ],
      "execution_count": null,
      "outputs": [
        {
          "output_type": "execute_result",
          "data": {
            "text/plain": [
              "Text(0, 0.5, 'Count')"
            ]
          },
          "metadata": {
            "tags": []
          },
          "execution_count": 85
        },
        {
          "output_type": "display_data",
          "data": {
            "image/png": "[encoded data removed]",
            "text/plain": [
              "<Figure size 576x432 with 1 Axes>"
            ]
          },
          "metadata": {
            "tags": []
          }
        }
      ]
    },
    {
      "cell_type": "markdown",
      "metadata": {
        "id": "gEZ7D4_BDgwp"
      },
      "source": [
        "### Observation\n",
        "The workers are interfered __sometimes__ for the _maximum number_ of time and __often__  for the _least number_ of times."
      ]
    },
    {
      "cell_type": "markdown",
      "metadata": {
        "id": "P2XS_FdTDgwp"
      },
      "source": [
        "<a id=section506><a/>"
      ]
    },
    {
      "cell_type": "markdown",
      "metadata": {
        "id": "7dpylyoWDgwq"
      },
      "source": [
        "### 5.5. Employee Count vs Treatment"
      ]
    },
    {
      "cell_type": "code",
      "metadata": {
        "colab": {
          "base_uri": "https://localhost:8080/",
          "height": 359
        },
        "id": "JLoVHYabDgwq",
        "outputId": "de5e2bbc-9ed6-4f3e-dab0-db6cfd164866"
      },
      "source": [
        "plt.figure(figsize=(10,5))\n",
        "sns.countplot(\"no_employees\", hue=\"treatment\", data=mh)\n",
        "plt.title(\"Employee count vs Treatment\",fontsize=18,fontweight=\"bold\")\n",
        "plt.ylabel(\"Number of people going for Treatment\")\n",
        "plt.xlabel(\"Company Size\")\n",
        "plt.show()"
      ],
      "execution_count": null,
      "outputs": [
        {
          "output_type": "display_data",
          "data": {
            "image/png": "[encoded data removed]",
            "text/plain": [
              "<Figure size 720x360 with 1 Axes>"
            ]
          },
          "metadata": {
            "tags": []
          }
        }
      ]
    },
    {
      "cell_type": "markdown",
      "metadata": {
        "id": "vEP-f-SPDgwq"
      },
      "source": [
        "### Observation\n",
        "The _maximum number_ of _people going for treatment_ belongs to __Company Size 26-100__ and those _not going for treatment belongs_ to __Company Size 6-25__."
      ]
    },
    {
      "cell_type": "markdown",
      "metadata": {
        "id": "g2CUyOtGDgwr"
      },
      "source": [
        "<a id=section507><a/>"
      ]
    },
    {
      "cell_type": "markdown",
      "metadata": {
        "id": "knLSRb_4Dgwr"
      },
      "source": [
        "### 5.6.Using _donut pie chart_ to see the relationship between _Gender_ and _Treatment_."
      ]
    },
    {
      "cell_type": "code",
      "metadata": {
        "colab": {
          "base_uri": "https://localhost:8080/",
          "height": 290
        },
        "id": "8Q5kZcXeDgwr",
        "outputId": "1271ca73-9c60-4846-9eb1-aef29a83505e"
      },
      "source": [
        "group_names=['Treatment', 'No Treatment']\n",
        "group_size=[637,622]\n",
        "subgroup_names=['Treatment.Male','Treatment.Female','Treatment.trans','No Treatment.Male','No Treatment.Female','No Treatment.trans']\n",
        "subgroup_size=[450,170,15,541,77,4]\n",
        " \n",
        "# Create colors\n",
        "a, b, c=[plt.cm.Blues, plt.cm.Reds, plt.cm.Greens]\n",
        " \n",
        "# First Ring (outside)\n",
        "fig, ax = plt.subplots()\n",
        "ax.axis('equal')\n",
        "mypie, _ = ax.pie(group_size, radius=1.3, labels=group_names, colors = ['yellowgreen', 'gold'])\n",
        "plt.setp( mypie, width=0.3, edgecolor='white')\n",
        "\n",
        "# wedges, texts, autotexts = ax.pie(group_size, autopct=lambda pct: func(pct, data),\n",
        "                                  #textprops=dict(color=\"w\"))\n",
        " \n",
        "# Second Ring (Inside)\n",
        "mypie2, _ = ax.pie(subgroup_size, radius=1.3-0.3, labels=subgroup_names, labeldistance=0.7, colors=[a(0.5), b(0.4), c(0.5), a(0.5), b(0.4), c(0.5)])\n",
        "plt.setp( mypie2, width=0.4, edgecolor='white')\n",
        "plt.margins(0,0)\n",
        "plt.title('Donut plot')\n",
        "# show it\n",
        "plt.show()"
      ],
      "execution_count": null,
      "outputs": [
        {
          "output_type": "display_data",
          "data": {
            "image/png": "[encoded data removed]",
            "text/plain": [
              "<Figure size 432x288 with 1 Axes>"
            ]
          },
          "metadata": {
            "tags": []
          }
        }
      ]
    },
    {
      "cell_type": "markdown",
      "metadata": {
        "id": "SSrhLJsQDgws"
      },
      "source": [
        "<a id=section508><a/>"
      ]
    },
    {
      "cell_type": "markdown",
      "metadata": {
        "id": "OQHwIUxpDgws"
      },
      "source": [
        "### 5.7. Using _seaborn swarm plot_"
      ]
    },
    {
      "cell_type": "code",
      "metadata": {
        "colab": {
          "base_uri": "https://localhost:8080/",
          "height": 302
        },
        "id": "Ox5SSk1IDgws",
        "outputId": "7e92ba0a-a0e9-4329-a2c2-41d248cf89d9"
      },
      "source": [
        "sns.set(style=\"whitegrid\", palette=\"muted\")\n",
        "\n",
        "\n",
        "# \"Melt\" the dataset to \"long-form\" or \"tidy\" representation\n",
        "pd.melt(mh, \"work_interfere\")\n",
        "\n",
        "# Draw a categorical scatterplot to show each observation\n",
        "sns.swarmplot(x=\"work_interfere\", y=\"age_clean\", \n",
        "              palette='gnuplot', data=mh)"
      ],
      "execution_count": null,
      "outputs": [
        {
          "output_type": "execute_result",
          "data": {
            "text/plain": [
              "<matplotlib.axes._subplots.AxesSubplot at 0x7fa94df65090>"
            ]
          },
          "metadata": {
            "tags": []
          },
          "execution_count": 88
        },
        {
          "output_type": "display_data",
          "data": {
            "image/png": "[encoded data removed]",
            "text/plain": [
              "<Figure size 432x288 with 1 Axes>"
            ]
          },
          "metadata": {
            "tags": []
          }
        }
      ]
    },
    {
      "cell_type": "markdown",
      "metadata": {
        "id": "zGWs4fw9Dgwt"
      },
      "source": [
        "### Observation\n",
        "Workers of age range between 25-40 years are interfered in their work __\"sometimes\"__ for the maximum number of time. "
      ]
    },
    {
      "cell_type": "markdown",
      "metadata": {
        "id": "vEqHYWJJDgwt"
      },
      "source": [
        "<a id=section509><a/>"
      ]
    },
    {
      "cell_type": "markdown",
      "metadata": {
        "_cell_guid": "f2d9d3d5-7bad-4ffc-84c8-147c99d95dcb",
        "_uuid": "531653c8483bd24e1e4766ee76a0de1cc17e3a45",
        "id": "1W821v3oDgwt"
      },
      "source": [
        "<a id=section6></a>\n",
        "### 6. Analysis through questions"
      ]
    },
    {
      "cell_type": "markdown",
      "metadata": {
        "id": "n_jmcfFEDgwt"
      },
      "source": [
        "<a id=section601><a/>"
      ]
    },
    {
      "cell_type": "markdown",
      "metadata": {
        "id": "tQuPk8xMDgwu"
      },
      "source": [
        "### 6.1.  How does the frequency of mental health illness vary by geographic location?\n",
        "\n",
        "Explore the __state__ data and its relationship to the frequency of mental health illness. A response to __work_interfere__ will be inferred to mean that the respondent experienced a mental health condition at the time of their response. From a non-response I will infer the non-existence of a mental health condition. "
      ]
    },
    {
      "cell_type": "markdown",
      "metadata": {
        "id": "rYjMGwxIDgwu"
      },
      "source": [
        "<a id=section602><a/>"
      ]
    },
    {
      "cell_type": "markdown",
      "metadata": {
        "id": "TD1olz7_Dgwu"
      },
      "source": [
        "#### 6.1.1. Which countries contributes the most?"
      ]
    },
    {
      "cell_type": "code",
      "metadata": {
        "colab": {
          "base_uri": "https://localhost:8080/",
          "height": 488
        },
        "id": "HNTQ-bXDDgwu",
        "outputId": "a5caa7b3-f54f-413a-f2a9-73428de3d76b"
      },
      "source": [
        "from collections import Counter\n",
        "country_count = Counter(mh['country'].dropna().tolist()).most_common(10)\n",
        "country_idx = [country[0] for country in country_count]\n",
        "country_val = [country[1] for country in country_count]\n",
        "fig,ax = plt.subplots(figsize=(8,6))\n",
        "sns.barplot(x = country_idx,y=country_val ,ax =ax)\n",
        "plt.title('Top ten country')\n",
        "plt.xlabel('Country')\n",
        "plt.ylabel('Count')\n",
        "ticks = plt.setp(ax.get_xticklabels(),rotation=90)"
      ],
      "execution_count": null,
      "outputs": [
        {
          "output_type": "display_data",
          "data": {
            "image/png": "[encoded data removed]",
            "text/plain": [
              "<Figure size 576x432 with 1 Axes>"
            ]
          },
          "metadata": {
            "tags": []
          }
        }
      ]
    },
    {
      "cell_type": "code",
      "metadata": {
        "colab": {
          "base_uri": "https://localhost:8080/"
        },
        "id": "QNJyGMayDxaE",
        "outputId": "47b555d8-66e0-4497-befc-0a8fd749b653"
      },
      "source": [
        "country_count = Counter(mh['country'].dropna().tolist()).most_common(10)\n",
        "country_count"
      ],
      "execution_count": null,
      "outputs": [
        {
          "output_type": "execute_result",
          "data": {
            "text/plain": [
              "[('United States', 750),\n",
              " ('United Kingdom', 185),\n",
              " ('Canada', 72),\n",
              " ('Germany', 45),\n",
              " ('Netherlands', 27),\n",
              " ('Ireland', 27),\n",
              " ('Australia', 21),\n",
              " ('France', 13),\n",
              " ('India', 10),\n",
              " ('New Zealand', 8)]"
            ]
          },
          "metadata": {
            "tags": []
          },
          "execution_count": 90
        }
      ]
    },
    {
      "cell_type": "markdown",
      "metadata": {
        "id": "12S2R82dDgwv"
      },
      "source": [
        "#### Observation\n",
        "\n",
        "As from the above plot it can be seen that __US__ contributed the most with __751 respondents__ and now further exploring the states of US"
      ]
    },
    {
      "cell_type": "markdown",
      "metadata": {
        "id": "P6Y8CuLoDgwv"
      },
      "source": [
        "<a id=section603><a/>"
      ]
    },
    {
      "cell_type": "markdown",
      "metadata": {
        "id": "2n2Qj2aqDgwv"
      },
      "source": [
        "#### 6.1.2. Which state contributes the most?"
      ]
    },
    {
      "cell_type": "code",
      "metadata": {
        "colab": {
          "base_uri": "https://localhost:8080/",
          "height": 342
        },
        "id": "6NNm99s6Dgwv",
        "outputId": "6c64d87c-a891-4e38-904d-e70ff50916c2"
      },
      "source": [
        "usa = mh.loc[mh['country'] == 'United States']\n",
        "top_10_statesUS = usa['state'].value_counts()[:10].to_frame()\n",
        "plt.figure(figsize=(10,5))\n",
        "sns.barplot(top_10_statesUS['state'],top_10_statesUS.index,palette=\"PuBuGn_d\")\n",
        "plt.title('Top 10 US states in terms of contribution',fontsize=18,fontweight=\"bold\")\n",
        "plt.xlabel('')\n",
        "plt.show()"
      ],
      "execution_count": null,
      "outputs": [
        {
          "output_type": "display_data",
          "data": {
            "image/png": "[encoded data removed]",
            "text/plain": [
              "<Figure size 720x360 with 1 Axes>"
            ]
          },
          "metadata": {
            "tags": []
          }
        }
      ]
    },
    {
      "cell_type": "markdown",
      "metadata": {
        "id": "IeeumBm1Dgww"
      },
      "source": [
        "#### Observation\n",
        "\n",
        "__CALIFORNIA__ is the state contributing the most in the survey with __138 respndents__."
      ]
    },
    {
      "cell_type": "code",
      "metadata": {
        "colab": {
          "base_uri": "https://localhost:8080/",
          "height": 359
        },
        "id": "HdAVI9oyGPh-",
        "outputId": "5eb9c00d-858d-40b2-8312-3e4a66940db1"
      },
      "source": [
        "usa['state'].value_counts()[:10].to_frame()"
      ],
      "execution_count": null,
      "outputs": [
        {
          "output_type": "execute_result",
          "data": {
            "text/html": [
              "<div>\n",
              "<style scoped>\n",
              "    .dataframe tbody tr th:only-of-type {\n",
              "        vertical-align: middle;\n",
              "    }\n",
              "\n",
              "    .dataframe tbody tr th {\n",
              "        vertical-align: top;\n",
              "    }\n",
              "\n",
              "    .dataframe thead th {\n",
              "        text-align: right;\n",
              "    }\n",
              "</style>\n",
              "<table border=\"1\" class=\"dataframe\">\n",
              "  <thead>\n",
              "    <tr style=\"text-align: right;\">\n",
              "      <th></th>\n",
              "      <th>state</th>\n",
              "    </tr>\n",
              "  </thead>\n",
              "  <tbody>\n",
              "    <tr>\n",
              "      <th>CA</th>\n",
              "      <td>138</td>\n",
              "    </tr>\n",
              "    <tr>\n",
              "      <th>WA</th>\n",
              "      <td>70</td>\n",
              "    </tr>\n",
              "    <tr>\n",
              "      <th>NY</th>\n",
              "      <td>56</td>\n",
              "    </tr>\n",
              "    <tr>\n",
              "      <th>TN</th>\n",
              "      <td>45</td>\n",
              "    </tr>\n",
              "    <tr>\n",
              "      <th>TX</th>\n",
              "      <td>44</td>\n",
              "    </tr>\n",
              "    <tr>\n",
              "      <th>OH</th>\n",
              "      <td>30</td>\n",
              "    </tr>\n",
              "    <tr>\n",
              "      <th>OR</th>\n",
              "      <td>29</td>\n",
              "    </tr>\n",
              "    <tr>\n",
              "      <th>PA</th>\n",
              "      <td>29</td>\n",
              "    </tr>\n",
              "    <tr>\n",
              "      <th>IL</th>\n",
              "      <td>28</td>\n",
              "    </tr>\n",
              "    <tr>\n",
              "      <th>IN</th>\n",
              "      <td>27</td>\n",
              "    </tr>\n",
              "  </tbody>\n",
              "</table>\n",
              "</div>"
            ],
            "text/plain": [
              "    state\n",
              "CA    138\n",
              "WA     70\n",
              "NY     56\n",
              "TN     45\n",
              "TX     44\n",
              "OH     30\n",
              "OR     29\n",
              "PA     29\n",
              "IL     28\n",
              "IN     27"
            ]
          },
          "metadata": {
            "tags": []
          },
          "execution_count": 95
        }
      ]
    },
    {
      "cell_type": "markdown",
      "metadata": {
        "id": "K2bSHWfDDgwx"
      },
      "source": [
        "<a id=section604><a/>"
      ]
    },
    {
      "cell_type": "markdown",
      "metadata": {
        "id": "P0_rt4NYDgwx"
      },
      "source": [
        "#### 6.1.3 What is the contribution of top3 countries among all?"
      ]
    },
    {
      "cell_type": "code",
      "metadata": {
        "colab": {
          "base_uri": "https://localhost:8080/"
        },
        "id": "ZuI_KuNGDgwx",
        "outputId": "0a6a1fd5-dae9-44de-a9bb-8b2ec47e5d6f"
      },
      "source": [
        "#can = data.loc[data['Country']=='Canada']\n",
        "#us = data.loc[data['Country']=='United States']\n",
        "#uk = data.loc[data['Country']=='United Kingdom']\n",
        "countries = pd.concat([mh.loc[mh['country']=='Canada'], mh.loc[mh['country']=='United States'], mh.loc[mh['country']=='United Kingdom']]).reset_index(drop=True)\n",
        "print('There consists {} people from the top 3 countries out of the {} people surveyed'.format(countries.shape[0], mh.shape[0]))"
      ],
      "execution_count": null,
      "outputs": [
        {
          "output_type": "stream",
          "text": [
            "There consists 1007 people from the top 3 countries out of the 1257 people surveyed\n"
          ],
          "name": "stdout"
        }
      ]
    },
    {
      "cell_type": "markdown",
      "metadata": {
        "id": "dXm7VfzUDgwx"
      },
      "source": [
        "<a id=section605><a/>"
      ]
    },
    {
      "cell_type": "markdown",
      "metadata": {
        "id": "RKXllHn6Dgwy"
      },
      "source": [
        "#### 6.1.4. What is the count and percentage of work interfere in work of the employees for the top 3 countries?"
      ]
    },
    {
      "cell_type": "code",
      "metadata": {
        "colab": {
          "base_uri": "https://localhost:8080/",
          "height": 285
        },
        "id": "MfG1FNkhDgwy",
        "outputId": "6ead1811-2ed9-4ea8-e76b-ea2c12f35c79"
      },
      "source": [
        "sns.countplot(x=countries['work_interfere'], order=['Never', 'Rarely', 'Sometimes', 'Often']);\n",
        "plt.xlabel('If you have a mental health condition, do you feel that it interferes with your work?');"
      ],
      "execution_count": null,
      "outputs": [
        {
          "output_type": "display_data",
          "data": {
            "image/png": "[encoded data removed]",
            "text/plain": [
              "<Figure size 432x288 with 1 Axes>"
            ]
          },
          "metadata": {
            "tags": []
          }
        }
      ]
    },
    {
      "cell_type": "code",
      "metadata": {
        "colab": {
          "base_uri": "https://localhost:8080/"
        },
        "id": "MVEVzjkPDgwy",
        "outputId": "c98a8fee-7dc3-4b6d-d316-4c84e81e59da"
      },
      "source": [
        "work_sum = countries['work_interfere'].value_counts().reset_index()\n",
        "more_than_never = work_sum['work_interfere'][0] + work_sum['work_interfere'][2] + work_sum['work_interfere'][3]\n",
        "print('{} people, or {:.1%}, believe that their mental health condition interferes with their work either sometimes or more'.format(more_than_never, more_than_never/countries.shape[0]))\n",
        "print('With {} ({:.1%}) people saying it intereferes often'.format(work_sum['work_interfere'][3], work_sum['work_interfere'][3]/countries.shape[0]))"
      ],
      "execution_count": null,
      "outputs": [
        {
          "output_type": "stream",
          "text": [
            "834 people, or 82.8%, believe that their mental health condition interferes with their work either sometimes or more\n",
            "With 109 (10.8%) people saying it intereferes often\n"
          ],
          "name": "stdout"
        }
      ]
    },
    {
      "cell_type": "markdown",
      "metadata": {
        "id": "JQ0i3cEDDgwz"
      },
      "source": [
        "<a id=section606><a/>"
      ]
    },
    {
      "cell_type": "markdown",
      "metadata": {
        "id": "W2gVgDBcDgwz"
      },
      "source": [
        "#### 6.1.5. What is the total number of employees going for treatment from the top 3 countries?"
      ]
    },
    {
      "cell_type": "code",
      "metadata": {
        "colab": {
          "base_uri": "https://localhost:8080/",
          "height": 285
        },
        "id": "bnCO-hyfDgwz",
        "outputId": "3a382ecd-ab87-46b4-e44a-56c9409ecf9d"
      },
      "source": [
        "#rcParams['figure.figsize'] = 8, 6\n",
        "sns.countplot(countries['treatment']);\n",
        "plt.xlabel('Have you sought treatment for a mental health condition?');"
      ],
      "execution_count": null,
      "outputs": [
        {
          "output_type": "display_data",
          "data": {
            "image/png": "[encoded data removed]",
            "text/plain": [
              "<Figure size 432x288 with 1 Axes>"
            ]
          },
          "metadata": {
            "tags": []
          }
        }
      ]
    },
    {
      "cell_type": "code",
      "metadata": {
        "colab": {
          "base_uri": "https://localhost:8080/"
        },
        "id": "MRxVPRXKDgwz",
        "outputId": "51572c08-5e71-43b5-9968-f35ede6cf410"
      },
      "source": [
        "treatment_count = countries['treatment'].value_counts().reset_index()\n",
        "print('Luckily {} ({:.1%}) have sought treatment for their mental health issues'.format(treatment_count['treatment'][0], treatment_count['treatment'][0]/countries.shape[0]))"
      ],
      "execution_count": null,
      "outputs": [
        {
          "output_type": "stream",
          "text": [
            "Luckily 539 (53.5%) have sought treatment for their mental health issues\n"
          ],
          "name": "stdout"
        }
      ]
    },
    {
      "cell_type": "markdown",
      "metadata": {
        "id": "9TuaNpkDDgw0"
      },
      "source": [
        "<a id=section607><a/>"
      ]
    },
    {
      "cell_type": "markdown",
      "metadata": {
        "id": "n3QSfgdDDgw0"
      },
      "source": [
        "#### 6.1.6. How many people did go for treatment on the basis of gender for the top 3 countries?"
      ]
    },
    {
      "cell_type": "code",
      "metadata": {
        "colab": {
          "base_uri": "https://localhost:8080/"
        },
        "id": "WlLRPub1Dgw0",
        "outputId": "8a2deed6-baf0-42aa-c5b6-8431ab096316"
      },
      "source": [
        "male = countries.loc[countries['gender']=='male']\n",
        "male_treatment = male.loc[male['treatment']=='Yes'].reset_index(drop=True)\n",
        "\n",
        "female = countries.loc[countries['gender']=='female']\n",
        "female_treatment = female.loc[female['treatment']=='Yes'].reset_index(drop=True)\n",
        "\n",
        "trans = countries.loc[countries['gender']=='trans']\n",
        "trans_treatment = trans.loc[trans['treatment']=='Yes'].reset_index(drop=True)\n",
        "\n",
        "print('Out of {} males surveyed, {} ({:.1%}) sought treatment'.format(male.shape[0], male_treatment.shape[0], male_treatment.shape[0]/male.shape[0]))\n",
        "print('Out of {} females surveyed, {} ({:.1%}) sought treatment'.format(female.shape[0], female_treatment.shape[0], female_treatment.shape[0]/female.shape[0]))\n",
        "print('Out of {} people who identify as anything other than male or female surveyed, {} ({:.1%}) sought treatment'.format(trans.shape[0], trans_treatment.shape[0], trans_treatment.shape[0]/trans.shape[0] ))"
      ],
      "execution_count": null,
      "outputs": [
        {
          "output_type": "stream",
          "text": [
            "Out of 772 males surveyed, 371 (48.1%) sought treatment\n",
            "Out of 220 females surveyed, 156 (70.9%) sought treatment\n",
            "Out of 15 people who identify as anything other than male or female surveyed, 12 (80.0%) sought treatment\n"
          ],
          "name": "stdout"
        }
      ]
    },
    {
      "cell_type": "markdown",
      "metadata": {
        "id": "a7tmzG5sDgw1"
      },
      "source": [
        "<a id=section608><a/>"
      ]
    },
    {
      "cell_type": "markdown",
      "metadata": {
        "_cell_guid": "50aee321-ab87-4851-92c0-db8222ebd65f",
        "_uuid": "8717ccde510b04b9e51f305e8706ba3eed14b072",
        "id": "eMvnXMP6Dgw1"
      },
      "source": [
        "### 6.2. Relationship between mental health and attitude.\n",
        "\n",
        "Explore the __mental_health_consequences__ data . A __\"No\"__ response to __mental_health_consequence__  (\"Do you think that discussing a mental health issue with your employer would have negative consequences?\") will be inferred to represent __positive__ attitudes toward mental health, while a __\"Yes\"__ response will represent __negative__ attitudes."
      ]
    },
    {
      "cell_type": "code",
      "metadata": {
        "_cell_guid": "9cc9a99c-76a4-417b-afa0-837f6ad6db5d",
        "_uuid": "198cd3b06fe4d41f9ee13452cbf1f9b1027c286f",
        "colab": {
          "base_uri": "https://localhost:8080/",
          "height": 550
        },
        "id": "rxYQETXXDgw1",
        "outputId": "f3faffbb-f425-4fc0-aca5-a0d857a388f3"
      },
      "source": [
        "                                                                                                         # Convert the mental_health_consequence responses into a new variable, \n",
        "\n",
        "mh['attitudes'] = mh['mental_health_consequence']                                                        # Make a copy of the column to preserve the original data. Work with the new column going forward.\n",
        "\n",
        "positive = [\"No\"]                                                                                        # Assign each type of response to one of two categories\n",
        "negative = [\"Yes\"]\n",
        "moderate = ['Maybe']\n",
        "\n",
        "mh['attitudes'] = mh['attitudes'].apply(lambda x:\"Positive\" if x in positive else x)\n",
        "mh['attitudes'] = mh['attitudes'].apply(lambda x:\"Negative\" if x in negative else x)\n",
        "mh['attitudes'] = mh['attitudes'].apply(lambda x:\"Moderate\" if x in moderate else x)\n",
        "\n",
        "\n",
        "attitudes_tab = pd.crosstab(index=mh[\"attitudes\"], columns=\"count\")                                      # Make a crosstab to view the count for each of the new categories\n",
        "\n",
        "print(attitudes_tab)\n",
        "\n",
        "print(\"If we didn't miss anything, this will equal 1257:\", len(mh['attitudes']))                         # Confirm that we didn't miss any entries\n",
        "\n",
        "print(attitudes_tab.plot(kind=\"barh\", \n",
        "                 figsize=(20,7),\n",
        "                 stacked=True))"
      ],
      "execution_count": null,
      "outputs": [
        {
          "output_type": "stream",
          "text": [
            "col_0      count\n",
            "attitudes       \n",
            "Moderate     477\n",
            "Negative     290\n",
            "Positive     490\n",
            "If we didn't miss anything, this will equal 1257: 1257\n",
            "AxesSubplot(0.125,0.125;0.775x0.755)\n"
          ],
          "name": "stdout"
        },
        {
          "output_type": "display_data",
          "data": {
            "image/png": "[encoded data removed]",
            "text/plain": [
              "<Figure size 1440x504 with 1 Axes>"
            ]
          },
          "metadata": {
            "tags": []
          }
        }
      ]
    },
    {
      "cell_type": "markdown",
      "metadata": {
        "id": "C1zAGPqDDgw2"
      },
      "source": [
        "<a id=section7></a> "
      ]
    },
    {
      "cell_type": "markdown",
      "metadata": {
        "id": "zpNQXslrDgw2"
      },
      "source": [
        "### Conclusion\n",
        "\n",
        "- The Mental Health Survrey being conducted helps us to know the __mental condition__ of employee working in _Tech firms_ across the participating countries.(__From: Section 1.2__)\n",
        "- Total of __1297__ entries were made during the survey out of which __1007__ contributions were from the _top 3 countries_ in the survey. (__From: Section 6.1.3__)\n",
        "- The __United States__ lead the chart in terms of participation in the survey followed by _United Kingdom_ and _Canada_.(__From: Section 6.1.1__)\n",
        "- __California__ lead the chart when analysis was run down on the basis of states.(__From: Section 6.1.2__)\n",
        "- __48.1% of male__, __70% of females__ and __12% of trans__ did sought for the __treatment__ among the others who participated in survey respectively.(__From: Section 6.1.6__)\n",
        "- From the analyis, it was concluded that __family history, work interfere, no of employees in the company and age category__ were the main parameters _affecting the mental health and thus requiring treatment_.(__Collectively From: 5.1, 5.2, 5.3, 5.4__)"
      ]
    }
  ]
}